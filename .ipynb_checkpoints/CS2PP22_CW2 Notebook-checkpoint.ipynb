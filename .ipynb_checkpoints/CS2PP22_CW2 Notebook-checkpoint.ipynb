{
 "cells": [
  {
   "cell_type": "markdown",
   "id": "d88f3733",
   "metadata": {},
   "source": [
    "# Introduction of new Python Package/Tool\n",
    "---\n",
    "Installation notes and any related comments..."
   ]
  },
  {
   "cell_type": "code",
   "execution_count": 1,
   "id": "d59dcb8e",
   "metadata": {
    "scrolled": true
   },
   "outputs": [
    {
     "name": "stdout",
     "output_type": "stream",
     "text": [
      "Requirement already satisfied: pydantic-settings in c:\\users\\angus\\anaconda3\\lib\\site-packages (2.2.1)\n",
      "Requirement already satisfied: pydantic>=2.3.0 in c:\\users\\angus\\anaconda3\\lib\\site-packages (from pydantic-settings) (2.6.3)\n",
      "Requirement already satisfied: python-dotenv>=0.21.0 in c:\\users\\angus\\anaconda3\\lib\\site-packages (from pydantic-settings) (0.21.0)\n",
      "Requirement already satisfied: annotated-types>=0.4.0 in c:\\users\\angus\\anaconda3\\lib\\site-packages (from pydantic>=2.3.0->pydantic-settings) (0.6.0)\n",
      "Requirement already satisfied: pydantic-core==2.16.3 in c:\\users\\angus\\anaconda3\\lib\\site-packages (from pydantic>=2.3.0->pydantic-settings) (2.16.3)\n",
      "Requirement already satisfied: typing-extensions>=4.6.1 in c:\\users\\angus\\anaconda3\\lib\\site-packages (from pydantic>=2.3.0->pydantic-settings) (4.10.0)\n"
     ]
    }
   ],
   "source": [
    "!pip install pydantic-settings"
   ]
  },
  {
   "cell_type": "code",
   "execution_count": 2,
   "id": "4b1c14de",
   "metadata": {
    "scrolled": true
   },
   "outputs": [
    {
     "name": "stdout",
     "output_type": "stream",
     "text": [
      "Requirement already satisfied: numpy in c:\\users\\angus\\anaconda3\\lib\\site-packages (1.23.5)\n"
     ]
    }
   ],
   "source": [
    "!pip install numpy"
   ]
  },
  {
   "cell_type": "code",
   "execution_count": 3,
   "id": "185a5b65",
   "metadata": {
    "scrolled": true
   },
   "outputs": [
    {
     "name": "stdout",
     "output_type": "stream",
     "text": [
      "Requirement already satisfied: pandas in c:\\users\\angus\\anaconda3\\lib\\site-packages (1.5.3)\n",
      "Requirement already satisfied: python-dateutil>=2.8.1 in c:\\users\\angus\\anaconda3\\lib\\site-packages (from pandas) (2.8.2)\n",
      "Requirement already satisfied: pytz>=2020.1 in c:\\users\\angus\\anaconda3\\lib\\site-packages (from pandas) (2022.7)\n",
      "Requirement already satisfied: numpy>=1.21.0 in c:\\users\\angus\\anaconda3\\lib\\site-packages (from pandas) (1.23.5)\n",
      "Requirement already satisfied: six>=1.5 in c:\\users\\angus\\anaconda3\\lib\\site-packages (from python-dateutil>=2.8.1->pandas) (1.16.0)\n"
     ]
    }
   ],
   "source": [
    "!pip install pandas"
   ]
  },
  {
   "cell_type": "code",
   "execution_count": 4,
   "id": "060ef6a9",
   "metadata": {
    "scrolled": false
   },
   "outputs": [
    {
     "name": "stdout",
     "output_type": "stream",
     "text": [
      "Requirement already satisfied: pandas-profiling[html,notebook] in c:\\users\\angus\\anaconda3\\lib\\site-packages (3.6.6)\n",
      "Requirement already satisfied: ydata-profiling in c:\\users\\angus\\anaconda3\\lib\\site-packages (from pandas-profiling[html,notebook]) (4.6.5)\n",
      "Requirement already satisfied: jupyter-client>=5.3.4 in c:\\users\\angus\\anaconda3\\lib\\site-packages (from pandas-profiling[html,notebook]) (7.3.4)\n",
      "Requirement already satisfied: jupyter-core>=4.6.3 in c:\\users\\angus\\anaconda3\\lib\\site-packages (from pandas-profiling[html,notebook]) (5.2.0)\n",
      "Requirement already satisfied: ipywidgets>=7.5.1 in c:\\users\\angus\\anaconda3\\lib\\site-packages (from pandas-profiling[html,notebook]) (7.6.5)\n",
      "Requirement already satisfied: ipykernel>=4.5.1 in c:\\users\\angus\\anaconda3\\lib\\site-packages (from ipywidgets>=7.5.1->pandas-profiling[html,notebook]) (6.19.2)\n",
      "Requirement already satisfied: ipython-genutils~=0.2.0 in c:\\users\\angus\\anaconda3\\lib\\site-packages (from ipywidgets>=7.5.1->pandas-profiling[html,notebook]) (0.2.0)\n",
      "Requirement already satisfied: traitlets>=4.3.1 in c:\\users\\angus\\anaconda3\\lib\\site-packages (from ipywidgets>=7.5.1->pandas-profiling[html,notebook]) (5.7.1)\n",
      "Requirement already satisfied: nbformat>=4.2.0 in c:\\users\\angus\\anaconda3\\lib\\site-packages (from ipywidgets>=7.5.1->pandas-profiling[html,notebook]) (5.7.0)\n",
      "Requirement already satisfied: widgetsnbextension~=3.5.0 in c:\\users\\angus\\anaconda3\\lib\\site-packages (from ipywidgets>=7.5.1->pandas-profiling[html,notebook]) (3.5.2)\n",
      "Requirement already satisfied: ipython>=4.0.0 in c:\\users\\angus\\anaconda3\\lib\\site-packages (from ipywidgets>=7.5.1->pandas-profiling[html,notebook]) (8.20.0)\n",
      "Requirement already satisfied: jupyterlab-widgets>=1.0.0 in c:\\users\\angus\\anaconda3\\lib\\site-packages (from ipywidgets>=7.5.1->pandas-profiling[html,notebook]) (1.0.0)\n",
      "Requirement already satisfied: entrypoints in c:\\users\\angus\\anaconda3\\lib\\site-packages (from jupyter-client>=5.3.4->pandas-profiling[html,notebook]) (0.4)\n",
      "Requirement already satisfied: nest-asyncio>=1.5.4 in c:\\users\\angus\\anaconda3\\lib\\site-packages (from jupyter-client>=5.3.4->pandas-profiling[html,notebook]) (1.5.6)\n",
      "Requirement already satisfied: python-dateutil>=2.8.2 in c:\\users\\angus\\anaconda3\\lib\\site-packages (from jupyter-client>=5.3.4->pandas-profiling[html,notebook]) (2.8.2)\n",
      "Requirement already satisfied: pyzmq>=23.0 in c:\\users\\angus\\anaconda3\\lib\\site-packages (from jupyter-client>=5.3.4->pandas-profiling[html,notebook]) (23.2.0)\n",
      "Requirement already satisfied: tornado>=6.0 in c:\\users\\angus\\anaconda3\\lib\\site-packages (from jupyter-client>=5.3.4->pandas-profiling[html,notebook]) (6.1)\n",
      "Requirement already satisfied: platformdirs>=2.5 in c:\\users\\angus\\anaconda3\\lib\\site-packages (from jupyter-core>=4.6.3->pandas-profiling[html,notebook]) (2.5.2)\n",
      "Requirement already satisfied: pywin32>=1.0 in c:\\users\\angus\\anaconda3\\lib\\site-packages (from jupyter-core>=4.6.3->pandas-profiling[html,notebook]) (305.1)\n",
      "Requirement already satisfied: scipy<1.12,>=1.4.1 in c:\\users\\angus\\anaconda3\\lib\\site-packages (from ydata-profiling->pandas-profiling[html,notebook]) (1.10.0)\n",
      "Requirement already satisfied: pandas!=1.4.0,<3,>1.1 in c:\\users\\angus\\anaconda3\\lib\\site-packages (from ydata-profiling->pandas-profiling[html,notebook]) (1.5.3)\n",
      "Requirement already satisfied: matplotlib<3.9,>=3.2 in c:\\users\\angus\\anaconda3\\lib\\site-packages (from ydata-profiling->pandas-profiling[html,notebook]) (3.7.0)\n",
      "Requirement already satisfied: pydantic>=2 in c:\\users\\angus\\anaconda3\\lib\\site-packages (from ydata-profiling->pandas-profiling[html,notebook]) (2.6.3)\n",
      "Requirement already satisfied: PyYAML<6.1,>=5.0.0 in c:\\users\\angus\\anaconda3\\lib\\site-packages (from ydata-profiling->pandas-profiling[html,notebook]) (6.0)\n",
      "Requirement already satisfied: jinja2<3.2,>=2.11.1 in c:\\users\\angus\\anaconda3\\lib\\site-packages (from ydata-profiling->pandas-profiling[html,notebook]) (3.1.2)\n",
      "Requirement already satisfied: visions==0.7.5 in c:\\users\\angus\\anaconda3\\lib\\site-packages (from visions[type_image_path]==0.7.5->ydata-profiling->pandas-profiling[html,notebook]) (0.7.5)\n",
      "Requirement already satisfied: numpy<1.26,>=1.16.0 in c:\\users\\angus\\anaconda3\\lib\\site-packages (from ydata-profiling->pandas-profiling[html,notebook]) (1.23.5)\n",
      "Requirement already satisfied: htmlmin==0.1.12 in c:\\users\\angus\\anaconda3\\lib\\site-packages (from ydata-profiling->pandas-profiling[html,notebook]) (0.1.12)\n",
      "Requirement already satisfied: phik<0.13,>=0.11.1 in c:\\users\\angus\\anaconda3\\lib\\site-packages (from ydata-profiling->pandas-profiling[html,notebook]) (0.12.4)\n",
      "Requirement already satisfied: requests<3,>=2.24.0 in c:\\users\\angus\\anaconda3\\lib\\site-packages (from ydata-profiling->pandas-profiling[html,notebook]) (2.28.1)\n",
      "Requirement already satisfied: tqdm<5,>=4.48.2 in c:\\users\\angus\\anaconda3\\lib\\site-packages (from ydata-profiling->pandas-profiling[html,notebook]) (4.64.1)\n",
      "Requirement already satisfied: seaborn<0.13,>=0.10.1 in c:\\users\\angus\\anaconda3\\lib\\site-packages (from ydata-profiling->pandas-profiling[html,notebook]) (0.12.2)\n",
      "Requirement already satisfied: multimethod<2,>=1.4 in c:\\users\\angus\\anaconda3\\lib\\site-packages (from ydata-profiling->pandas-profiling[html,notebook]) (1.11.2)\n",
      "Requirement already satisfied: statsmodels<1,>=0.13.2 in c:\\users\\angus\\anaconda3\\lib\\site-packages (from ydata-profiling->pandas-profiling[html,notebook]) (0.13.5)\n",
      "Requirement already satisfied: typeguard<5,>=4.1.2 in c:\\users\\angus\\anaconda3\\lib\\site-packages (from ydata-profiling->pandas-profiling[html,notebook]) (4.1.5)\n",
      "Requirement already satisfied: imagehash==4.3.1 in c:\\users\\angus\\anaconda3\\lib\\site-packages (from ydata-profiling->pandas-profiling[html,notebook]) (4.3.1)\n",
      "Requirement already satisfied: wordcloud>=1.9.1 in c:\\users\\angus\\anaconda3\\lib\\site-packages (from ydata-profiling->pandas-profiling[html,notebook]) (1.9.3)\n",
      "Requirement already satisfied: dacite>=1.8 in c:\\users\\angus\\anaconda3\\lib\\site-packages (from ydata-profiling->pandas-profiling[html,notebook]) (1.8.1)\n",
      "Requirement already satisfied: numba<0.59.0,>=0.56.0 in c:\\users\\angus\\anaconda3\\lib\\site-packages (from ydata-profiling->pandas-profiling[html,notebook]) (0.56.4)\n",
      "Requirement already satisfied: PyWavelets in c:\\users\\angus\\anaconda3\\lib\\site-packages (from imagehash==4.3.1->ydata-profiling->pandas-profiling[html,notebook]) (1.4.1)\n",
      "Requirement already satisfied: pillow in c:\\users\\angus\\anaconda3\\lib\\site-packages (from imagehash==4.3.1->ydata-profiling->pandas-profiling[html,notebook]) (10.0.1)\n",
      "Requirement already satisfied: attrs>=19.3.0 in c:\\users\\angus\\anaconda3\\lib\\site-packages (from visions==0.7.5->visions[type_image_path]==0.7.5->ydata-profiling->pandas-profiling[html,notebook]) (22.1.0)\n",
      "Requirement already satisfied: networkx>=2.4 in c:\\users\\angus\\anaconda3\\lib\\site-packages (from visions==0.7.5->visions[type_image_path]==0.7.5->ydata-profiling->pandas-profiling[html,notebook]) (2.8.4)\n",
      "Requirement already satisfied: tangled-up-in-unicode>=0.0.4 in c:\\users\\angus\\anaconda3\\lib\\site-packages (from visions==0.7.5->visions[type_image_path]==0.7.5->ydata-profiling->pandas-profiling[html,notebook]) (0.2.0)\n",
      "Requirement already satisfied: comm>=0.1.1 in c:\\users\\angus\\anaconda3\\lib\\site-packages (from ipykernel>=4.5.1->ipywidgets>=7.5.1->pandas-profiling[html,notebook]) (0.1.2)\n",
      "Requirement already satisfied: debugpy>=1.0 in c:\\users\\angus\\anaconda3\\lib\\site-packages (from ipykernel>=4.5.1->ipywidgets>=7.5.1->pandas-profiling[html,notebook]) (1.5.1)\n",
      "Requirement already satisfied: matplotlib-inline>=0.1 in c:\\users\\angus\\anaconda3\\lib\\site-packages (from ipykernel>=4.5.1->ipywidgets>=7.5.1->pandas-profiling[html,notebook]) (0.1.6)\n",
      "Requirement already satisfied: packaging in c:\\users\\angus\\anaconda3\\lib\\site-packages (from ipykernel>=4.5.1->ipywidgets>=7.5.1->pandas-profiling[html,notebook]) (22.0)\n",
      "Requirement already satisfied: psutil in c:\\users\\angus\\anaconda3\\lib\\site-packages (from ipykernel>=4.5.1->ipywidgets>=7.5.1->pandas-profiling[html,notebook]) (5.9.0)\n",
      "Requirement already satisfied: decorator in c:\\users\\angus\\anaconda3\\lib\\site-packages (from ipython>=4.0.0->ipywidgets>=7.5.1->pandas-profiling[html,notebook]) (5.1.1)\n",
      "Requirement already satisfied: jedi>=0.16 in c:\\users\\angus\\anaconda3\\lib\\site-packages (from ipython>=4.0.0->ipywidgets>=7.5.1->pandas-profiling[html,notebook]) (0.18.1)\n",
      "Requirement already satisfied: prompt-toolkit<3.1.0,>=3.0.41 in c:\\users\\angus\\anaconda3\\lib\\site-packages (from ipython>=4.0.0->ipywidgets>=7.5.1->pandas-profiling[html,notebook]) (3.0.43)\n",
      "Requirement already satisfied: pygments>=2.4.0 in c:\\users\\angus\\anaconda3\\lib\\site-packages (from ipython>=4.0.0->ipywidgets>=7.5.1->pandas-profiling[html,notebook]) (2.11.2)\n",
      "Requirement already satisfied: stack-data in c:\\users\\angus\\anaconda3\\lib\\site-packages (from ipython>=4.0.0->ipywidgets>=7.5.1->pandas-profiling[html,notebook]) (0.2.0)\n",
      "Requirement already satisfied: exceptiongroup in c:\\users\\angus\\anaconda3\\lib\\site-packages (from ipython>=4.0.0->ipywidgets>=7.5.1->pandas-profiling[html,notebook]) (1.2.0)\n",
      "Requirement already satisfied: colorama in c:\\users\\angus\\anaconda3\\lib\\site-packages (from ipython>=4.0.0->ipywidgets>=7.5.1->pandas-profiling[html,notebook]) (0.4.6)\n",
      "Requirement already satisfied: MarkupSafe>=2.0 in c:\\users\\angus\\anaconda3\\lib\\site-packages (from jinja2<3.2,>=2.11.1->ydata-profiling->pandas-profiling[html,notebook]) (2.1.1)\n",
      "Requirement already satisfied: contourpy>=1.0.1 in c:\\users\\angus\\anaconda3\\lib\\site-packages (from matplotlib<3.9,>=3.2->ydata-profiling->pandas-profiling[html,notebook]) (1.0.5)\n",
      "Requirement already satisfied: cycler>=0.10 in c:\\users\\angus\\anaconda3\\lib\\site-packages (from matplotlib<3.9,>=3.2->ydata-profiling->pandas-profiling[html,notebook]) (0.11.0)\n",
      "Requirement already satisfied: fonttools>=4.22.0 in c:\\users\\angus\\anaconda3\\lib\\site-packages (from matplotlib<3.9,>=3.2->ydata-profiling->pandas-profiling[html,notebook]) (4.25.0)\n",
      "Requirement already satisfied: kiwisolver>=1.0.1 in c:\\users\\angus\\anaconda3\\lib\\site-packages (from matplotlib<3.9,>=3.2->ydata-profiling->pandas-profiling[html,notebook]) (1.4.4)\n",
      "Requirement already satisfied: pyparsing>=2.3.1 in c:\\users\\angus\\anaconda3\\lib\\site-packages (from matplotlib<3.9,>=3.2->ydata-profiling->pandas-profiling[html,notebook]) (3.0.9)\n",
      "Requirement already satisfied: fastjsonschema in c:\\users\\angus\\anaconda3\\lib\\site-packages (from nbformat>=4.2.0->ipywidgets>=7.5.1->pandas-profiling[html,notebook]) (2.16.2)\n",
      "Requirement already satisfied: jsonschema>=2.6 in c:\\users\\angus\\anaconda3\\lib\\site-packages (from nbformat>=4.2.0->ipywidgets>=7.5.1->pandas-profiling[html,notebook]) (4.17.3)\n",
      "Requirement already satisfied: llvmlite<0.40,>=0.39.0dev0 in c:\\users\\angus\\anaconda3\\lib\\site-packages (from numba<0.59.0,>=0.56.0->ydata-profiling->pandas-profiling[html,notebook]) (0.39.1)\n",
      "Requirement already satisfied: setuptools in c:\\users\\angus\\anaconda3\\lib\\site-packages (from numba<0.59.0,>=0.56.0->ydata-profiling->pandas-profiling[html,notebook]) (65.6.3)\n",
      "Requirement already satisfied: pytz>=2020.1 in c:\\users\\angus\\anaconda3\\lib\\site-packages (from pandas!=1.4.0,<3,>1.1->ydata-profiling->pandas-profiling[html,notebook]) (2022.7)\n",
      "Requirement already satisfied: joblib>=0.14.1 in c:\\users\\angus\\anaconda3\\lib\\site-packages (from phik<0.13,>=0.11.1->ydata-profiling->pandas-profiling[html,notebook]) (1.1.1)\n",
      "Requirement already satisfied: annotated-types>=0.4.0 in c:\\users\\angus\\anaconda3\\lib\\site-packages (from pydantic>=2->ydata-profiling->pandas-profiling[html,notebook]) (0.6.0)\n",
      "Requirement already satisfied: pydantic-core==2.16.3 in c:\\users\\angus\\anaconda3\\lib\\site-packages (from pydantic>=2->ydata-profiling->pandas-profiling[html,notebook]) (2.16.3)\n",
      "Requirement already satisfied: typing-extensions>=4.6.1 in c:\\users\\angus\\anaconda3\\lib\\site-packages (from pydantic>=2->ydata-profiling->pandas-profiling[html,notebook]) (4.10.0)\n",
      "Requirement already satisfied: six>=1.5 in c:\\users\\angus\\anaconda3\\lib\\site-packages (from python-dateutil>=2.8.2->jupyter-client>=5.3.4->pandas-profiling[html,notebook]) (1.16.0)\n",
      "Requirement already satisfied: charset-normalizer<3,>=2 in c:\\users\\angus\\anaconda3\\lib\\site-packages (from requests<3,>=2.24.0->ydata-profiling->pandas-profiling[html,notebook]) (2.0.4)\n",
      "Requirement already satisfied: idna<4,>=2.5 in c:\\users\\angus\\anaconda3\\lib\\site-packages (from requests<3,>=2.24.0->ydata-profiling->pandas-profiling[html,notebook]) (3.4)\n",
      "Requirement already satisfied: urllib3<1.27,>=1.21.1 in c:\\users\\angus\\anaconda3\\lib\\site-packages (from requests<3,>=2.24.0->ydata-profiling->pandas-profiling[html,notebook]) (1.26.14)\n",
      "Requirement already satisfied: certifi>=2017.4.17 in c:\\users\\angus\\anaconda3\\lib\\site-packages (from requests<3,>=2.24.0->ydata-profiling->pandas-profiling[html,notebook]) (2024.2.2)\n",
      "Requirement already satisfied: patsy>=0.5.2 in c:\\users\\angus\\anaconda3\\lib\\site-packages (from statsmodels<1,>=0.13.2->ydata-profiling->pandas-profiling[html,notebook]) (0.5.3)\n",
      "Requirement already satisfied: notebook>=4.4.1 in c:\\users\\angus\\anaconda3\\lib\\site-packages (from widgetsnbextension~=3.5.0->ipywidgets>=7.5.1->pandas-profiling[html,notebook]) (6.5.2)\n",
      "Requirement already satisfied: parso<0.9.0,>=0.8.0 in c:\\users\\angus\\anaconda3\\lib\\site-packages (from jedi>=0.16->ipython>=4.0.0->ipywidgets>=7.5.1->pandas-profiling[html,notebook]) (0.8.3)\n",
      "Requirement already satisfied: pyrsistent!=0.17.0,!=0.17.1,!=0.17.2,>=0.14.0 in c:\\users\\angus\\anaconda3\\lib\\site-packages (from jsonschema>=2.6->nbformat>=4.2.0->ipywidgets>=7.5.1->pandas-profiling[html,notebook]) (0.18.0)\n",
      "Requirement already satisfied: argon2-cffi in c:\\users\\angus\\anaconda3\\lib\\site-packages (from notebook>=4.4.1->widgetsnbextension~=3.5.0->ipywidgets>=7.5.1->pandas-profiling[html,notebook]) (21.3.0)\n",
      "Requirement already satisfied: nbconvert>=5 in c:\\users\\angus\\anaconda3\\lib\\site-packages (from notebook>=4.4.1->widgetsnbextension~=3.5.0->ipywidgets>=7.5.1->pandas-profiling[html,notebook]) (6.5.4)\n",
      "Requirement already satisfied: Send2Trash>=1.8.0 in c:\\users\\angus\\anaconda3\\lib\\site-packages (from notebook>=4.4.1->widgetsnbextension~=3.5.0->ipywidgets>=7.5.1->pandas-profiling[html,notebook]) (1.8.0)\n",
      "Requirement already satisfied: terminado>=0.8.3 in c:\\users\\angus\\anaconda3\\lib\\site-packages (from notebook>=4.4.1->widgetsnbextension~=3.5.0->ipywidgets>=7.5.1->pandas-profiling[html,notebook]) (0.17.1)\n",
      "Requirement already satisfied: prometheus-client in c:\\users\\angus\\anaconda3\\lib\\site-packages (from notebook>=4.4.1->widgetsnbextension~=3.5.0->ipywidgets>=7.5.1->pandas-profiling[html,notebook]) (0.14.1)\n",
      "Requirement already satisfied: nbclassic>=0.4.7 in c:\\users\\angus\\anaconda3\\lib\\site-packages (from notebook>=4.4.1->widgetsnbextension~=3.5.0->ipywidgets>=7.5.1->pandas-profiling[html,notebook]) (0.5.2)\n",
      "Requirement already satisfied: wcwidth in c:\\users\\angus\\anaconda3\\lib\\site-packages (from prompt-toolkit<3.1.0,>=3.0.41->ipython>=4.0.0->ipywidgets>=7.5.1->pandas-profiling[html,notebook]) (0.2.5)\n",
      "Requirement already satisfied: executing in c:\\users\\angus\\anaconda3\\lib\\site-packages (from stack-data->ipython>=4.0.0->ipywidgets>=7.5.1->pandas-profiling[html,notebook]) (0.8.3)\n",
      "Requirement already satisfied: asttokens in c:\\users\\angus\\anaconda3\\lib\\site-packages (from stack-data->ipython>=4.0.0->ipywidgets>=7.5.1->pandas-profiling[html,notebook]) (2.0.5)\n",
      "Requirement already satisfied: pure-eval in c:\\users\\angus\\anaconda3\\lib\\site-packages (from stack-data->ipython>=4.0.0->ipywidgets>=7.5.1->pandas-profiling[html,notebook]) (0.2.2)\n",
      "Requirement already satisfied: jupyter-server>=1.8 in c:\\users\\angus\\anaconda3\\lib\\site-packages (from nbclassic>=0.4.7->notebook>=4.4.1->widgetsnbextension~=3.5.0->ipywidgets>=7.5.1->pandas-profiling[html,notebook]) (1.23.4)\n",
      "Requirement already satisfied: notebook-shim>=0.1.0 in c:\\users\\angus\\anaconda3\\lib\\site-packages (from nbclassic>=0.4.7->notebook>=4.4.1->widgetsnbextension~=3.5.0->ipywidgets>=7.5.1->pandas-profiling[html,notebook]) (0.2.2)\n",
      "Requirement already satisfied: lxml in c:\\users\\angus\\anaconda3\\lib\\site-packages (from nbconvert>=5->notebook>=4.4.1->widgetsnbextension~=3.5.0->ipywidgets>=7.5.1->pandas-profiling[html,notebook]) (4.9.3)\n",
      "Requirement already satisfied: beautifulsoup4 in c:\\users\\angus\\anaconda3\\lib\\site-packages (from nbconvert>=5->notebook>=4.4.1->widgetsnbextension~=3.5.0->ipywidgets>=7.5.1->pandas-profiling[html,notebook]) (4.11.1)\n",
      "Requirement already satisfied: bleach in c:\\users\\angus\\anaconda3\\lib\\site-packages (from nbconvert>=5->notebook>=4.4.1->widgetsnbextension~=3.5.0->ipywidgets>=7.5.1->pandas-profiling[html,notebook]) (4.1.0)\n",
      "Requirement already satisfied: defusedxml in c:\\users\\angus\\anaconda3\\lib\\site-packages (from nbconvert>=5->notebook>=4.4.1->widgetsnbextension~=3.5.0->ipywidgets>=7.5.1->pandas-profiling[html,notebook]) (0.7.1)\n",
      "Requirement already satisfied: jupyterlab-pygments in c:\\users\\angus\\anaconda3\\lib\\site-packages (from nbconvert>=5->notebook>=4.4.1->widgetsnbextension~=3.5.0->ipywidgets>=7.5.1->pandas-profiling[html,notebook]) (0.1.2)\n",
      "Requirement already satisfied: mistune<2,>=0.8.1 in c:\\users\\angus\\anaconda3\\lib\\site-packages (from nbconvert>=5->notebook>=4.4.1->widgetsnbextension~=3.5.0->ipywidgets>=7.5.1->pandas-profiling[html,notebook]) (0.8.4)\n",
      "Requirement already satisfied: nbclient>=0.5.0 in c:\\users\\angus\\anaconda3\\lib\\site-packages (from nbconvert>=5->notebook>=4.4.1->widgetsnbextension~=3.5.0->ipywidgets>=7.5.1->pandas-profiling[html,notebook]) (0.5.13)\n",
      "Requirement already satisfied: pandocfilters>=1.4.1 in c:\\users\\angus\\anaconda3\\lib\\site-packages (from nbconvert>=5->notebook>=4.4.1->widgetsnbextension~=3.5.0->ipywidgets>=7.5.1->pandas-profiling[html,notebook]) (1.5.0)\n",
      "Requirement already satisfied: tinycss2 in c:\\users\\angus\\anaconda3\\lib\\site-packages (from nbconvert>=5->notebook>=4.4.1->widgetsnbextension~=3.5.0->ipywidgets>=7.5.1->pandas-profiling[html,notebook]) (1.2.1)\n",
      "Requirement already satisfied: pywinpty>=1.1.0 in c:\\users\\angus\\anaconda3\\lib\\site-packages (from terminado>=0.8.3->notebook>=4.4.1->widgetsnbextension~=3.5.0->ipywidgets>=7.5.1->pandas-profiling[html,notebook]) (2.0.10)\n",
      "Requirement already satisfied: argon2-cffi-bindings in c:\\users\\angus\\anaconda3\\lib\\site-packages (from argon2-cffi->notebook>=4.4.1->widgetsnbextension~=3.5.0->ipywidgets>=7.5.1->pandas-profiling[html,notebook]) (21.2.0)\n",
      "Requirement already satisfied: anyio<4,>=3.1.0 in c:\\users\\angus\\anaconda3\\lib\\site-packages (from jupyter-server>=1.8->nbclassic>=0.4.7->notebook>=4.4.1->widgetsnbextension~=3.5.0->ipywidgets>=7.5.1->pandas-profiling[html,notebook]) (3.5.0)\n",
      "Requirement already satisfied: websocket-client in c:\\users\\angus\\anaconda3\\lib\\site-packages (from jupyter-server>=1.8->nbclassic>=0.4.7->notebook>=4.4.1->widgetsnbextension~=3.5.0->ipywidgets>=7.5.1->pandas-profiling[html,notebook]) (0.58.0)\n",
      "Requirement already satisfied: cffi>=1.0.1 in c:\\users\\angus\\anaconda3\\lib\\site-packages (from argon2-cffi-bindings->argon2-cffi->notebook>=4.4.1->widgetsnbextension~=3.5.0->ipywidgets>=7.5.1->pandas-profiling[html,notebook]) (1.15.1)\n",
      "Requirement already satisfied: soupsieve>1.2 in c:\\users\\angus\\anaconda3\\lib\\site-packages (from beautifulsoup4->nbconvert>=5->notebook>=4.4.1->widgetsnbextension~=3.5.0->ipywidgets>=7.5.1->pandas-profiling[html,notebook]) (2.3.2.post1)\n",
      "Requirement already satisfied: webencodings in c:\\users\\angus\\anaconda3\\lib\\site-packages (from bleach->nbconvert>=5->notebook>=4.4.1->widgetsnbextension~=3.5.0->ipywidgets>=7.5.1->pandas-profiling[html,notebook]) (0.5.1)\n",
      "Requirement already satisfied: sniffio>=1.1 in c:\\users\\angus\\anaconda3\\lib\\site-packages (from anyio<4,>=3.1.0->jupyter-server>=1.8->nbclassic>=0.4.7->notebook>=4.4.1->widgetsnbextension~=3.5.0->ipywidgets>=7.5.1->pandas-profiling[html,notebook]) (1.2.0)\n",
      "Requirement already satisfied: pycparser in c:\\users\\angus\\anaconda3\\lib\\site-packages (from cffi>=1.0.1->argon2-cffi-bindings->argon2-cffi->notebook>=4.4.1->widgetsnbextension~=3.5.0->ipywidgets>=7.5.1->pandas-profiling[html,notebook]) (2.21)\n"
     ]
    },
    {
     "name": "stderr",
     "output_type": "stream",
     "text": [
      "WARNING: pandas-profiling 3.6.6 does not provide the extra 'html'\n",
      "WARNING: visions 0.7.5 does not provide the extra 'type-image-path'\n"
     ]
    }
   ],
   "source": [
    "!pip install pandas-profiling[notebook,html] --user"
   ]
  },
  {
   "cell_type": "code",
   "execution_count": 7,
   "id": "73f3f4ea",
   "metadata": {
    "ExecuteTime": {
     "end_time": "2024-01-29T12:14:49.311239Z",
     "start_time": "2024-01-29T12:14:49.299234Z"
    }
   },
   "outputs": [],
   "source": [
    "# All import statements \n",
    "# Packages Explored in Module\n",
    "import pandas as pd \n",
    "import numpy\n",
    "import matplotlib\n",
    "\n",
    "# New Tool for This Project\n",
    "import ydata_profiling as pp\n",
    "\n",
    "# Individually written tools from module files"
   ]
  },
  {
   "cell_type": "markdown",
   "id": "6e9ae5c2",
   "metadata": {},
   "source": []
  },
  {
   "cell_type": "markdown",
   "id": "8b599f7a",
   "metadata": {},
   "source": [
    "# The Evolution of Musical Attributes and Their Impact on the Popularity of Songs in the Digital Era\n",
    "\n",
    "### Problem Statement:\n",
    "In the age of digital music, the success of a song is often gauged by its popularity on streaming platforms, which can be influenced by various musical attributes. Understanding how different attributes correlate with popularity can provide insights into listener preferences and inform decisions in the music production and marketing processes.\n",
    "\n",
    "### Objective:\n",
    "\n",
    "To analyze the relationship between various song attributes such as genre, tempo, and explicit content and their popularity scores.\n",
    "To identify trends in the evolution of musical attributes over time and how they relate to shifts in listener engagement and popularity.\n",
    "To determine if there are specific patterns or characteristics that are common among highly popular songs.\n",
    "\n",
    "### Hypotheses:\n",
    "\n",
    "Songs with certain attributes, like a higher tempo or inclusion of explicit content, are more likely to achieve high popularity scores.\n",
    "Changes in listener preferences over time will reflect in the prominence of different musical attributes within the most popular songs.\n",
    "There may be a pattern of convergence or divergence in song attributes within top-charting hits compared to songs with lower popularity scores.\n",
    "\n",
    "### Research Questions:\n",
    "\n",
    "What song attributes most strongly correlate with high popularity scores within the dataset?\n",
    "How have the common attributes of popular songs changed over the past decade?\n",
    "Can we predict the potential popularity of a song based on its attributes without considering its audio features?\n",
    "\n",
    "### Significance:\n",
    "The project's findings can offer valuable insights for artists, producers, and record labels into the types of song attributes that resonate with listeners in the current music landscape. Additionally, these insights could be used to develop more targeted music recommendation systems that align with evolving listener preferences."
   ]
  },
  {
   "cell_type": "markdown",
   "id": "a6f4b628",
   "metadata": {},
   "source": [
    "# 2. Collect Data\n",
    "---"
   ]
  },
  {
   "cell_type": "markdown",
   "id": "9be466d1",
   "metadata": {},
   "source": [
    "dataset is MusicOSet"
   ]
  },
  {
   "cell_type": "code",
   "execution_count": 8,
   "id": "97bef715",
   "metadata": {},
   "outputs": [
    {
     "ename": "SyntaxError",
     "evalue": "expected ':' (4153693717.py, line 15)",
     "output_type": "error",
     "traceback": [
      "\u001b[1;36m  Cell \u001b[1;32mIn[8], line 15\u001b[1;36m\u001b[0m\n\u001b[1;33m    if file.endswith('.csv')\u001b[0m\n\u001b[1;37m                             ^\u001b[0m\n\u001b[1;31mSyntaxError\u001b[0m\u001b[1;31m:\u001b[0m expected ':'\n"
     ]
    }
   ],
   "source": [
    "import os\n",
    "\n",
    "# Get the current working directory\n",
    "cwd = os.getcwd()\n",
    "\n",
    "# Construct the path to the \"Data\" folder\n",
    "data_folder = os.path.join(cwd, \"Data\")\n",
    "\n",
    "# Initialize an empty list to store the data frames\n",
    "data_frames = []\n",
    "\n",
    "# Loop through all files in the \"Data\" folder\n",
    "for file in os.listdir(data_folder):\n",
    "    # Check if the file is a CSV\n",
    "    if file.endswith('.csv'):\n",
    "        # Construct the full file path\n",
    "        file_path = os.path.join(data_folder, file)\n",
    "        \n",
    "        try:\n",
    "            # Read the CSV file into a DataFrame\n",
    "            df = pd.read_csv(file_path)\n",
    "            \n",
    "            # Append the DataFrame to the list\n",
    "            data_frames.append(df)\n",
    "        \n",
    "        except pd.errors.ParserError as e:\n",
    "            print(f\"Parser error occurred while reading {file}: {e}\")\n",
    "        \n",
    "        except Exception as e:\n",
    "            print(f\"An error occurred while reading {file}: {e}\")\n",
    "\n",
    "# Concatenate all the data frames into a single DataFrame\n",
    "if data_frames:\n",
    "    data = pd.concat(data_frames, ignore_index=True)\n",
    "    print(\"Data frames concatenated successfully.\")\n",
    "else:\n",
    "    print(\"No valid data frames found.\")\n"
   ]
  },
  {
   "cell_type": "markdown",
   "id": "9cf76cad",
   "metadata": {},
   "source": [
    "# 3. Exploratory Data Analysis\n",
    "---\n",
    "Comments..."
   ]
  },
  {
   "cell_type": "code",
   "execution_count": 3,
   "id": "fbf5a32c",
   "metadata": {
    "ExecuteTime": {
     "end_time": "2024-01-29T12:14:49.341234Z",
     "start_time": "2024-01-29T12:14:49.333243Z"
    }
   },
   "outputs": [
    {
     "name": "stdout",
     "output_type": "stream",
     "text": [
      "  song_id\\tduration_ms\\tkey\\tmode\\ttime_signature\\tacousticness\\tdanceability\\tenergy\\tinstrumentalness\\tliveness\\tloudness\\tspeechiness\\tvalence\\ttempo  \\\n",
      "0  3e9HZxeyfWwjeyPAMmWSSQ\\t207320\\t1\\t1\\t4\\t0.229...                                                                                                       \n",
      "1  5p7ujcrUXASCNwRaWNHR1C\\t201661\\t6\\t1\\t4\\t0.297...                                                                                                       \n",
      "2  2xLMifQCjDGFmkHkpNLD9h\\t312820\\t8\\t1\\t4\\t0.005...                                                                                                       \n",
      "3  3KkXRkHbMCARz0aVfEt68P\\t158040\\t2\\t1\\t4\\t0.556...                                                                                                       \n",
      "4  1rqqCSm0Qe4I9rUvWncaom\\t190947\\t5\\t1\\t4\\t0.193...                                                                                                       \n",
      "\n",
      "  album_id\\trank_score\\tpeak_position\\tweek_count\\tdate  \\\n",
      "0                                                NaN      \n",
      "1                                                NaN      \n",
      "2                                                NaN      \n",
      "3                                                NaN      \n",
      "4                                                NaN      \n",
      "\n",
      "  album_id\\tyear_end_score\\tis_pop\\tyear  \\\n",
      "0                                    NaN   \n",
      "1                                    NaN   \n",
      "2                                    NaN   \n",
      "3                                    NaN   \n",
      "4                                    NaN   \n",
      "\n",
      "  artist_id\\trank_score\\tpeak_position\\tweeks_on_chart\\tweek  \\\n",
      "0                                                NaN           \n",
      "1                                                NaN           \n",
      "2                                                NaN           \n",
      "3                                                NaN           \n",
      "4                                                NaN           \n",
      "\n",
      "  artist_id\\tyear_end_score\\tis_pop\\tyear  \\\n",
      "0                                     NaN   \n",
      "1                                     NaN   \n",
      "2                                     NaN   \n",
      "3                                     NaN   \n",
      "4                                     NaN   \n",
      "\n",
      "  artist_id\\talbum_id\\trelease_date\\trelease_date_precision  \\\n",
      "0                                                NaN          \n",
      "1                                                NaN          \n",
      "2                                                NaN          \n",
      "3                                                NaN          \n",
      "4                                                NaN          \n",
      "\n",
      "  song_id\\trank_score\\tpeak_position\\tweeks_on_chart\\tweek  \\\n",
      "0                                                NaN         \n",
      "1                                                NaN         \n",
      "2                                                NaN         \n",
      "3                                                NaN         \n",
      "4                                                NaN         \n",
      "\n",
      "  song_id\\tyear_end_score\\tis_pop\\tyear  \\\n",
      "0                                   NaN   \n",
      "1                                   NaN   \n",
      "2                                   NaN   \n",
      "3                                   NaN   \n",
      "4                                   NaN   \n",
      "\n",
      "  song_id\\talbum_id\\ttrack_number\\trelease_date\\trelease_date_precision  \n",
      "0                                                NaN                     \n",
      "1                                                NaN                     \n",
      "2                                                NaN                     \n",
      "3                                                NaN                     \n",
      "4                                                NaN                     \n"
     ]
    }
   ],
   "source": [
    "# Exploration code\n",
    "print(data.head())"
   ]
  },
  {
   "cell_type": "code",
   "execution_count": null,
   "id": "6d649208",
   "metadata": {
    "ExecuteTime": {
     "end_time": "2024-01-29T12:14:49.356235Z",
     "start_time": "2024-01-29T12:14:49.344237Z"
    }
   },
   "outputs": [],
   "source": [
    "# Figures"
   ]
  },
  {
   "cell_type": "markdown",
   "id": "6e779925",
   "metadata": {},
   "source": [
    "Descriptions and discoveries..."
   ]
  },
  {
   "cell_type": "code",
   "execution_count": null,
   "id": "61a00c75",
   "metadata": {
    "ExecuteTime": {
     "end_time": "2024-01-29T12:14:49.371231Z",
     "start_time": "2024-01-29T12:14:49.358237Z"
    }
   },
   "outputs": [],
   "source": [
    "# Exploration code"
   ]
  },
  {
   "cell_type": "code",
   "execution_count": null,
   "id": "a5829a82",
   "metadata": {
    "ExecuteTime": {
     "end_time": "2024-01-29T12:14:49.386233Z",
     "start_time": "2024-01-29T12:14:49.373235Z"
    }
   },
   "outputs": [],
   "source": [
    "# Figures"
   ]
  },
  {
   "cell_type": "markdown",
   "id": "605de327",
   "metadata": {},
   "source": [
    "Descriptions and discoveries..."
   ]
  },
  {
   "cell_type": "code",
   "execution_count": null,
   "id": "3e1ab033",
   "metadata": {
    "ExecuteTime": {
     "end_time": "2024-01-29T12:14:49.401231Z",
     "start_time": "2024-01-29T12:14:49.389233Z"
    }
   },
   "outputs": [],
   "source": [
    "# Exploration code (potential integration of module code)"
   ]
  },
  {
   "cell_type": "code",
   "execution_count": null,
   "id": "a4990498",
   "metadata": {
    "ExecuteTime": {
     "end_time": "2024-01-29T12:14:49.416231Z",
     "start_time": "2024-01-29T12:14:49.404234Z"
    }
   },
   "outputs": [],
   "source": [
    "# Figures (potential integration of module code)"
   ]
  },
  {
   "cell_type": "markdown",
   "id": "f11bfc96",
   "metadata": {},
   "source": [
    "Descriptions and discoveries..."
   ]
  },
  {
   "cell_type": "markdown",
   "id": "dc9f6c9d",
   "metadata": {},
   "source": [
    "# 4. Data Pre-Processing\n",
    "---\n",
    "Explanations..."
   ]
  },
  {
   "cell_type": "code",
   "execution_count": null,
   "id": "c09b5ecb",
   "metadata": {
    "ExecuteTime": {
     "end_time": "2024-01-29T12:14:49.431231Z",
     "start_time": "2024-01-29T12:14:49.419239Z"
    }
   },
   "outputs": [],
   "source": [
    "# Data manipulation 1 (potential integration of module code)"
   ]
  },
  {
   "cell_type": "code",
   "execution_count": null,
   "id": "289a9a3f",
   "metadata": {
    "ExecuteTime": {
     "end_time": "2024-01-29T12:14:49.446228Z",
     "start_time": "2024-01-29T12:14:49.435232Z"
    }
   },
   "outputs": [],
   "source": [
    "# Data manipulation 2 (potential integration of module code)"
   ]
  },
  {
   "cell_type": "markdown",
   "id": "013259a6",
   "metadata": {},
   "source": [
    "Related discussion..."
   ]
  },
  {
   "cell_type": "markdown",
   "id": "3ad5e17e",
   "metadata": {},
   "source": [
    "# 5. In-Depth Analysis\n",
    "---\n",
    "Explanations..."
   ]
  },
  {
   "cell_type": "code",
   "execution_count": null,
   "id": "57b3854e",
   "metadata": {
    "ExecuteTime": {
     "end_time": "2024-01-29T12:14:49.462235Z",
     "start_time": "2024-01-29T12:14:49.448230Z"
    }
   },
   "outputs": [],
   "source": [
    "# Implementations (potential integration of module code)"
   ]
  },
  {
   "cell_type": "markdown",
   "id": "d2ba4eb8",
   "metadata": {},
   "source": [
    "Descriptions and discoveries..."
   ]
  },
  {
   "cell_type": "code",
   "execution_count": null,
   "id": "5521bbe7",
   "metadata": {
    "ExecuteTime": {
     "end_time": "2024-01-29T12:14:49.493232Z",
     "start_time": "2024-01-29T12:14:49.475238Z"
    }
   },
   "outputs": [],
   "source": [
    "# Visualisations (potential integration of module code)"
   ]
  },
  {
   "cell_type": "markdown",
   "id": "90bb3f07",
   "metadata": {},
   "source": [
    "Descriptions and discoveries..."
   ]
  },
  {
   "cell_type": "code",
   "execution_count": null,
   "id": "955b784f",
   "metadata": {
    "ExecuteTime": {
     "end_time": "2024-01-29T12:14:49.506230Z",
     "start_time": "2024-01-29T12:14:49.496233Z"
    }
   },
   "outputs": [],
   "source": [
    "# Evaluations (potential integration of module code)"
   ]
  },
  {
   "cell_type": "markdown",
   "id": "facfdfa8",
   "metadata": {},
   "source": [
    "Descriptions and discoveries..."
   ]
  },
  {
   "cell_type": "code",
   "execution_count": null,
   "id": "cf5db850",
   "metadata": {
    "ExecuteTime": {
     "end_time": "2024-01-29T12:14:49.536230Z",
     "start_time": "2024-01-29T12:14:49.518230Z"
    }
   },
   "outputs": [],
   "source": [
    "# Visualisations (potential integration of module code)"
   ]
  },
  {
   "cell_type": "markdown",
   "id": "03f6b317",
   "metadata": {},
   "source": [
    "Descriptions and discoveries..."
   ]
  },
  {
   "cell_type": "markdown",
   "id": "cb514821",
   "metadata": {},
   "source": [
    "# 6. Communicate Results\n",
    "---\n",
    "Overall conclusions..."
   ]
  },
  {
   "cell_type": "markdown",
   "id": "964c7939",
   "metadata": {},
   "source": [
    "# References\n",
    "---\n",
    "..."
   ]
  },
  {
   "cell_type": "markdown",
   "id": "dffb2f08",
   "metadata": {},
   "source": [
    "# Group Reflection\n",
    "\n",
    "---\n",
    "\n",
    "Comments...\n",
    "\n",
    "---\n",
    "*Optional Unequal Contribution Table*\n",
    "Member | Contribution [% effort]\n",
    "-|-\n",
    "Jamie Soan | 100%\n",
    "Angus Day | 100%\n",
    "William Heap | 100%\n",
    "kj | 100%"
   ]
  },
  {
   "cell_type": "markdown",
   "id": "b74d88fb",
   "metadata": {},
   "source": [
    "# Jamie Reflection\n",
    "---\n",
    "Comments..."
   ]
  },
  {
   "cell_type": "markdown",
   "id": "5b36e1fe",
   "metadata": {},
   "source": [
    "# Angus Reflection\n",
    "---\n",
    "Comments..."
   ]
  },
  {
   "cell_type": "markdown",
   "id": "dcb05dda",
   "metadata": {},
   "source": [
    "# William Reflection\n",
    "---\n",
    "Comments..."
   ]
  },
  {
   "cell_type": "markdown",
   "id": "cece0720",
   "metadata": {},
   "source": [
    "# KJ Reflection\n",
    "---\n",
    "Comments..."
   ]
  },
  {
   "cell_type": "markdown",
   "id": "b2791667",
   "metadata": {},
   "source": [
    "# JKL Reflection\n",
    "---\n",
    "Comments..."
   ]
  }
 ],
 "metadata": {
  "kernelspec": {
   "display_name": "Python 3 (ipykernel)",
   "language": "python",
   "name": "python3"
  },
  "language_info": {
   "codemirror_mode": {
    "name": "ipython",
    "version": 3
   },
   "file_extension": ".py",
   "mimetype": "text/x-python",
   "name": "python",
   "nbconvert_exporter": "python",
   "pygments_lexer": "ipython3",
   "version": "3.10.9"
  },
  "toc": {
   "base_numbering": 1,
   "nav_menu": {},
   "number_sections": false,
   "sideBar": true,
   "skip_h1_title": false,
   "title_cell": "Table of Contents",
   "title_sidebar": "Contents",
   "toc_cell": true,
   "toc_position": {},
   "toc_section_display": true,
   "toc_window_display": false
  },
  "varInspector": {
   "cols": {
    "lenName": 16,
    "lenType": 16,
    "lenVar": 40
   },
   "kernels_config": {
    "python": {
     "delete_cmd_postfix": "",
     "delete_cmd_prefix": "del ",
     "library": "var_list.py",
     "varRefreshCmd": "print(var_dic_list())"
    },
    "r": {
     "delete_cmd_postfix": ") ",
     "delete_cmd_prefix": "rm(",
     "library": "var_list.r",
     "varRefreshCmd": "cat(var_dic_list()) "
    }
   },
   "types_to_exclude": [
    "module",
    "function",
    "builtin_function_or_method",
    "instance",
    "_Feature"
   ],
   "window_display": false
  }
 },
 "nbformat": 4,
 "nbformat_minor": 5
}
