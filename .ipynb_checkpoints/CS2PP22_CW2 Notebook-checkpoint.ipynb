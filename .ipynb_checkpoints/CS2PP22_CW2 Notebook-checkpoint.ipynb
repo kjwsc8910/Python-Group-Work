{
 "cells": [
  {
   "cell_type": "markdown",
   "id": "d88f3733",
   "metadata": {},
   "source": [
    "# Introduction of new Python Package/Tool\n",
    "---\n",
    "Installation notes and any related comments:\n",
    "\n",
    "must have pydantic-settings, numpy, pandas, ydata-profiling, seaborn\n",
    "\n",
    "### install commands\n",
    "pip install pydantic-settings\n",
    "pip install numpy\n",
    "pip install pandas\n",
    "pip install ydata-profiling\n",
    "pip install seaborn"
   ]
  },
  {
   "cell_type": "markdown",
   "id": "5373c087",
   "metadata": {},
   "source": [
    "## word count"
   ]
  },
  {
   "cell_type": "code",
   "execution_count": null,
   "id": "507ccc1d",
   "metadata": {},
   "outputs": [],
   "source": [
    "import nbformat\n",
    "\n",
    "# Load your notebook\n",
    "with open('C:/Users/Angus/programming in python y2/Group-work/Python-Group-Work/CS2PP22_CW2 Notebook.ipynb', 'r', encoding='utf-8') as notebook_file:\n",
    "    notebook = nbformat.read(notebook_file, as_version=4)\n",
    "\n",
    "# Function to count words in a markdown cell\n",
    "def count_words_in_markdown(cell):\n",
    "    words = cell['source'].split()\n",
    "    return len(words)\n",
    "\n",
    "# Calculate the total word count for markdown cells\n",
    "word_count = sum(count_words_in_markdown(cell) for cell in notebook.cells if cell.cell_type == 'markdown')\n",
    "\n",
    "print(f\"The notebook has approximately {word_count} words in markdown cells.\")"
   ]
  },
  {
   "cell_type": "markdown",
   "id": "b933cddd",
   "metadata": {},
   "source": [
    "#### Module Code: CS2PP22\n",
    "#### Assignment report Title: Group Python Work Spring Term\n",
    "#### Date (when the work completed): 13/03/2024\n",
    "#### Actual hrs spent for the assignment: 11"
   ]
  },
  {
   "cell_type": "code",
   "execution_count": null,
   "id": "73f3f4ea",
   "metadata": {
    "ExecuteTime": {
     "end_time": "2024-01-29T12:14:49.311239Z",
     "start_time": "2024-01-29T12:14:49.299234Z"
    }
   },
   "outputs": [],
   "source": [
    "# All import statements \n",
    "# Packages Explored in Module\n",
    "import pandas as pd \n",
    "import numpy\n",
    "import matplotlib.pyplot as plt\n",
    "import os\n",
    "import seaborn as sns\n",
    "\n",
    "# New Tool for This Project\n",
    "import ydata_profiling as pp\n",
    "\n",
    "\n",
    "%matplotlib inline\n",
    "sns.set_style(\"whitegrid\")"
   ]
  },
  {
   "cell_type": "markdown",
   "id": "6e9ae5c2",
   "metadata": {},
   "source": []
  },
  {
   "cell_type": "markdown",
   "id": "8b599f7a",
   "metadata": {},
   "source": [
    "# The Evolution of Musical Attributes and Their Impact on the Popularity of Songs in the Digital Era\n",
    "\n",
    "### Problem Statement:\n",
    "In the age of digital music, the success of a song is often gauged by its popularity on streaming platforms, which can be influenced by various musical attributes. Understanding how different attributes correlate with popularity can provide insights into listener preferences and inform decisions in the music production and marketing processes.\n",
    "\n",
    "### Objective:\n",
    "\n",
    "To analyze the relationship between various song attributes such as genre, tempo, and explicit content and their popularity scores.\n",
    "To identify trends in the evolution of musical attributes over time and how they relate to shifts in listener engagement and popularity.\n",
    "To determine if there are specific patterns or characteristics that are common among highly popular songs.\n",
    "\n",
    "### Hypotheses:\n",
    "\n",
    "Songs with certain attributes, like a higher tempo or inclusion of explicit content, are more likely to achieve high popularity scores.\n",
    "Changes in listener preferences over time will reflect in the prominence of different musical attributes within the most popular songs.\n",
    "There may be a pattern of convergence or divergence in song attributes within top-charting hits compared to songs with lower popularity scores.\n",
    "\n",
    "### Research Questions:\n",
    "\n",
    "What song attributes most strongly correlate with high popularity scores within the dataset?\n",
    "How have the common attributes of popular songs changed over the past decade?\n",
    "Can we predict the potential popularity of a song based on its attributes without considering its audio features?\n",
    "\n",
    "### Significance:\n",
    "The project's findings can offer valuable insights for artists, producers, and record labels into the types of song attributes that resonate with listeners in the current music landscape. Additionally, these insights could be used to develop more targeted music recommendation systems that align with evolving listener preferences."
   ]
  },
  {
   "cell_type": "markdown",
   "id": "a6f4b628",
   "metadata": {},
   "source": [
    "# 2. Collect Data\n",
    "---"
   ]
  },
  {
   "cell_type": "markdown",
   "id": "9be466d1",
   "metadata": {},
   "source": [
    "dataset is MusicOSet"
   ]
  },
  {
   "cell_type": "code",
   "execution_count": null,
   "id": "97bef715",
   "metadata": {},
   "outputs": [],
   "source": [
    "# Get the current working directory\n",
    "cwd = os.getcwd()\n",
    "\n",
    "# Construct the path to the \"Data\" folder\n",
    "data_folder = os.path.join(cwd, \"Data\")\n",
    "\n",
    "# Initialize an empty list to store the data frames\n",
    "data_frames = {}\n",
    "\n",
    "# Loop through all files in the \"Data\" folder\n",
    "for file in os.listdir(data_folder):\n",
    "    # Check if the file is a CSV\n",
    "    if file.endswith('.csv'):\n",
    "        # Construct the full file path\n",
    "        file_path = os.path.join(data_folder, file)\n",
    "        \n",
    "        # Read the Excel file into a DataFrame\n",
    "        df = pd.read_csv(file_path, delimiter='\\t')\n",
    "        \n",
    "        # Append the DataFrame to the list\\n\",\n",
    "        data_frames[file] = df\n",
    "\n",
    "# Concatenate all the data frames into a single DataFrame\n",
    "#data = pd.concat(data_frames, ignore_index=True)\n",
    "\n",
    "data_frames['songs.csv'].columns = data_frames['songs.csv'].columns.map(lambda x : 'song_'+x if 'song_' not in x else x)\n",
    "data_frames['albums.csv'].columns = data_frames['albums.csv'].columns.map(lambda x : 'album_'+x if 'album_' not in x else x)\n",
    "data_frames['artists.csv'].columns = data_frames['artists.csv'].columns.map(lambda x : 'artist_'+x if 'artist_' not in x else x)\n",
    "data_frames['acoustic_features.csv'].columns = data_frames['acoustic_features.csv'].columns.map(lambda x : 'song_'+x if 'song_' not in x else x)\n",
    "\n",
    "# data_frames['song_chart.csv'].columns = data_frames['song_chart.csv'].columns.map(lambda x : 'song_'+x if 'song_' not in x else x)\n",
    "# data_frames['song_pop.csv'].columns = data_frames['song_pop.csv'].columns.map(lambda x : 'song_'+x if 'song_' not in x else x)\n",
    "# data_frames['album_chart.csv'].columns = data_frames['album_chart.csv'].columns.map(lambda x : 'album_'+x if 'album_' not in x else x)\n",
    "# data_frames['album_pop.csv'].columns = data_frames['album_pop.csv'].columns.map(lambda x : 'album_'+x if 'album_' not in x else x)\n",
    "# data_frames['artist_chart.csv'].columns = data_frames['artist_chart.csv'].columns.map(lambda x : 'artist_'+x if 'artist_' not in x else x)\n",
    "# data_frames['artist_pop.csv'].columns = data_frames['artist_pop.csv'].columns.map(lambda x : 'artist_'+x if 'artist_' not in x else x)\n",
    "\n",
    "data = pd.merge(data_frames['tracks.csv'], data_frames['songs.csv'], left_on = 'song_id', right_on = 'song_id', how = 'inner', suffixes=['', '_remove'])\n",
    "data = pd.merge(data, data_frames['albums.csv'], left_on = 'album_id', right_on = 'album_id', how = 'inner', suffixes=['', '_remove'])\n",
    "data = pd.merge(data, data_frames['releases.csv'], left_on = 'album_id', right_on = 'album_id', how = 'inner', suffixes=['', '_remove'])\n",
    "data = pd.merge(data, data_frames['artists.csv'], left_on = 'artist_id', right_on = 'artist_id', how = 'inner', suffixes=['', '_remove'])\n",
    "data = pd.merge(data, data_frames['acoustic_features.csv'], left_on = 'song_id', right_on = 'song_id', how = 'inner', suffixes=['', '_remove'])\n",
    "# data = pd.merge(data, data_frames['song_chart.csv'], left_on = 'song_id', right_on = 'song_id', how = 'inner', suffixes=['', '_remove'])\n",
    "# data = pd.merge(data, data_frames['song_pop.csv'], left_on = 'song_id', right_on = 'song_id', how = 'inner', suffixes=['', '_remove'])\n",
    "# data = pd.merge(data, data_frames['album_chart.csv'], left_on = 'album_id', right_on = 'album_id', how = 'inner', suffixes=['', '_remove'])\n",
    "# data = pd.merge(data, data_frames['album_pop.csv'], left_on = 'album_id', right_on = 'album_id', how = 'inner', suffixes=['', '_remove'])\n",
    "# data = pd.merge(data, data_frames['artist_chart.csv'], left_on = 'artist_id', right_on = 'artist_id', how = 'inner', suffixes=['', '_remove'])\n",
    "# data = pd.merge(data, data_frames['artist_pop.csv'], left_on = 'artist_id', right_on = 'artist_id', how = 'inner', suffixes=['', '_remove'])\n",
    "\n",
    "## Commented out merges Duplicate rows, which requries ~64GB of memmory to process, TODO: change duplicate rows to be stored as a dictornary to remove the need to duplicate rows\n",
    "\n",
    "data.drop([i for i in data.columns if 'remove' in i], axis=1, inplace=True)\n",
    "\n",
    "data.to_csv('test.csv')\n"
   ]
  },
  {
   "cell_type": "markdown",
   "id": "9cf76cad",
   "metadata": {},
   "source": [
    "# 3. Exploratory Data Analysis\n",
    "\n",
    "first we start with initial data exploration with use of .head(), .info(), .describe() to gain an understanding of the structure and summary statistics of the dataset"
   ]
  },
  {
   "cell_type": "code",
   "execution_count": null,
   "id": "fbf5a32c",
   "metadata": {
    "ExecuteTime": {
     "end_time": "2024-01-29T12:14:49.341234Z",
     "start_time": "2024-01-29T12:14:49.333243Z"
    }
   },
   "outputs": [],
   "source": [
    "# Exploration code\n",
    "print(data.head())"
   ]
  },
  {
   "cell_type": "code",
   "execution_count": null,
   "id": "0acbce9d",
   "metadata": {},
   "outputs": [],
   "source": [
    "print(data.info())"
   ]
  },
  {
   "cell_type": "code",
   "execution_count": null,
   "id": "7cbe51a6",
   "metadata": {},
   "outputs": [],
   "source": [
    "print(data.describe())"
   ]
  },
  {
   "cell_type": "markdown",
   "id": "a7b0dbb9",
   "metadata": {},
   "source": [
    "## Initial Data Exploration Findings\n",
    "\n",
    "Our initial exploration of the dataset reveals a rich collection of music tracks, with a total of 11,296 entries across 39 attributes. This extensive dataset allows us to delve into a diverse array of features ranging from song popularity to album characteristics.\n",
    "\n",
    "Upon inspecting the first few records with `.head()`, we observe a variety of genres and release dates, indicating a dataset that spans a broad temporal range and encompasses a wide spectrum of musical styles.\n",
    "\n",
    "The data types and completeness assessed by `.info()` suggest that our dataset is mostly complete, but we'll need to address a few missing values to ensure the robustness of our analysis. Furthermore, the numerical summaries provided by `.describe()` offer insights into the central tendencies and dispersion of key variables such as song popularity, which has an average value of approximately 43.49 but varies widely as indicated by the standard deviation.\n",
    "\n",
    "These initial findings set the stage for a deeper analysis where we will further investigate the factors contributing to song popularity and how these factors have evolved over the time frame covered by our dataset."
   ]
  },
  {
   "cell_type": "code",
   "execution_count": null,
   "id": "6d649208",
   "metadata": {
    "ExecuteTime": {
     "end_time": "2024-01-29T12:14:49.356235Z",
     "start_time": "2024-01-29T12:14:49.344237Z"
    },
    "scrolled": false
   },
   "outputs": [],
   "source": [
    "# Figures\n",
    "df = data\n",
    "print(df.describe())\n",
    "\n",
    "# Check for Missing Values\n",
    "print(df.isnull().sum())\n",
    "\n",
    "# Distribution of Numeric Features\n",
    "numeric_columns = df.select_dtypes(include=['float64', 'int64']).columns\n",
    "for column in numeric_columns:\n",
    "    plt.figure(figsize=(10, 4))\n",
    "    sns.histplot(df[column], kde=True, bins=30)\n",
    "    plt.title(f'Distribution of {column}')\n",
    "    plt.xlabel(column)\n",
    "    plt.ylabel('Frequency')\n",
    "    plt.show()\n",
    "\n",
    "# Correlation Heatmap\n",
    "plt.figure(figsize=(10, 8))\n",
    "sns.heatmap(df.corr(), annot=True, cmap='coolwarm', fmt=\".2f\")\n",
    "plt.title('Correlation Heatmap')\n",
    "plt.show()"
   ]
  },
  {
   "cell_type": "markdown",
   "id": "6e779925",
   "metadata": {},
   "source": [
    "Descriptions and discoveries..."
   ]
  },
  {
   "cell_type": "markdown",
   "id": "121f228b",
   "metadata": {
    "ExecuteTime": {
     "end_time": "2024-01-29T12:14:49.371231Z",
     "start_time": "2024-01-29T12:14:49.358237Z"
    }
   },
   "source": [
    "# Exploratory Data Analysis: Correlation Heatmap Findings\n",
    "Our exploratory data analysis included a correlation heatmap to identify relationships between different attributes of songs in our dataset. Notable correlations are discussed below:\n",
    "\n",
    "Album and Song Popularity: There is a strong positive correlation (0.81) between album popularity and song popularity, suggesting that popular albums tend to feature popular songs. This could imply that an album's overall success can positively influence the popularity of its individual tracks.\n",
    "\n",
    "Song Explicitness and Popularity: Song explicitness has a moderate positive correlation (0.25) with song popularity. This could indicate that songs with explicit content have a tendency to be more popular, which may reflect current trends in music consumption.\n",
    "\n",
    "Song Features and Popularity: Several song features show moderate positive correlations with song popularity, including speechiness (0.56), and energy (0.13). Speechiness measures the presence of spoken words in a track, while energy captures the intensity and activity. Higher values in these features might correspond to traits that are characteristic of popular music.\n",
    "\n",
    "Loudness and Energy: A very strong positive correlation (0.68) is observed between loudness and energy, suggesting that louder tracks are often perceived as more energetic. This is consistent with the idea that higher energy in songs is often associated with higher volume levels.\n",
    "\n",
    "Acousticness and Instrumentalness: Both acousticness and instrumentalness have a strong negative correlation with loudness (-0.39 and -0.39 respectively). This implies that songs with more acoustic and instrumental elements tend to be quieter.\n",
    "\n",
    "Danceability, Valence, and Tempo: Danceability shows a small positive correlation with valence (0.21) and tempo (0.21), indicating that songs that are more danceable tend to be happier (higher valence) and faster-paced. However, the correlation is not strong enough to draw definitive conclusions, and further analysis might be required."
   ]
  },
  {
   "cell_type": "markdown",
   "id": "dc9f6c9d",
   "metadata": {},
   "source": [
    "# 4. Data Pre-Processing\n",
    "---\n",
    "Data Pre-Processing is a necessary step in data anaylsis, involving the cleaning and organizing of the raw data given. This data needs to be transformed into a suitable format for its analysis and modelling.This is to improve the quality of the data and make it more suitable for manipulating."
   ]
  },
  {
   "cell_type": "code",
   "execution_count": null,
   "id": "d32798a8",
   "metadata": {},
   "outputs": [],
   "source": [
    "from scipy import stats\n",
    "#remove rows with missing values\n",
    "df.dropna(inplace=True)\n",
    "\n",
    "#detect outliers using z-score\n",
    "z_scores = stats.zscore(df[['track_number']])\n",
    "outliers = (abs(z_scores) < 3).all(axis=1)\n",
    "df = df[outliers]"
   ]
  },
  {
   "cell_type": "code",
   "execution_count": null,
   "id": "c09b5ecb",
   "metadata": {
    "ExecuteTime": {
     "end_time": "2024-01-29T12:14:49.431231Z",
     "start_time": "2024-01-29T12:14:49.419239Z"
    },
    "scrolled": true
   },
   "outputs": [],
   "source": [
    "#List of columns to remove\n",
    "columns_to_remove = [\n",
    "    'track_number',\n",
    "    'release_date_precision',\n",
    "    'song_billboard',\n",
    "    'album_billboard',\n",
    "    'album_total_tracks',\n",
    "    'album_image_url',\n",
    "    'artist_image_url',\n",
    "    'song_time_signature'\n",
    "]\n",
    "\n",
    "#Makes a copy of the DataFrame\n",
    "df_cleaned = df.copy()\n",
    "\n",
    "#Remove specified columns from the copy\n",
    "df_cleaned.drop(columns=columns_to_remove, inplace=True)"
   ]
  },
  {
   "cell_type": "code",
   "execution_count": null,
   "id": "a0421c0b",
   "metadata": {},
   "outputs": [],
   "source": [
    "df_cleaned.rename(columns={\n",
    "    'song_id': 'Song_ID',\n",
    "    'album_id': 'Album_ID',\n",
    "    'release_date': 'Release_Date',\n",
    "    'song_name': 'Song_Name',\n",
    "    'song_artists': 'Artists',\n",
    "    'song_popularity': 'Song_Popularity',\n",
    "    'song_explicit': 'Explicit',\n",
    "    'song_type': 'Type',\n",
    "    'album_name': 'Album',\n",
    "    'album_artists': 'Album_Artists',\n",
    "    'album_popularity': 'Album_Popularity',\n",
    "    'album_type': 'Album_Type',\n",
    "    'artist_id': 'Artist_ID',\n",
    "    'artist_name': 'Artist_Name',\n",
    "    'artist_followers': 'Artist_Followers',\n",
    "    'artist_popularity': 'Artist_Popularity',\n",
    "    'artist_type': 'Artist_Type',\n",
    "    'artist_main_genre': 'Artist_Main_Genre',\n",
    "    'artist_genres': 'Artist_Genres',\n",
    "    'song_duration_ms': 'Song_Duration_ms',\n",
    "    'song_key': 'Key',\n",
    "    'song_mode': 'Mode',\n",
    "    'song_acousticness': 'Acousticness',\n",
    "    'song_danceability': 'Danceability',\n",
    "    'song_energy': 'Energy',\n",
    "    'song_instrumentalness': 'Instrumentalness',\n",
    "    'song_liveness': 'Liveness',\n",
    "    'song_loudness': 'Loudness',\n",
    "    'song_speechiness': 'Speechiness',\n",
    "    'song_valence': 'Valence',\n",
    "    'song_tempo': 'Tempo'\n",
    "}, inplace=True)"
   ]
  },
  {
   "cell_type": "code",
   "execution_count": null,
   "id": "289a9a3f",
   "metadata": {
    "ExecuteTime": {
     "end_time": "2024-01-29T12:14:49.446228Z",
     "start_time": "2024-01-29T12:14:49.435232Z"
    },
    "scrolled": true
   },
   "outputs": [],
   "source": [
    "print(df_cleaned.head())"
   ]
  },
  {
   "cell_type": "markdown",
   "id": "013259a6",
   "metadata": {},
   "source": [
    "##### Dropping the rows with missing values\n",
    "this is vital as it ensures the integrity of the data while ensuring that the data being worked with is complete as well as consistent.\n",
    "##### Detecting outliers and removing them\n",
    "Outliers can significantly affect the performance of statistical analyses,by removing the exremities using the Z-score method, the analysis will not be skewed by outliers in the data ensuring code consistency.\n",
    "##### Removing certain columns\n",
    "I removed multiple columns from the dataframe as these columns aren't relevant to the data analysis, the removal of this redundant information reduced the dimensionality of the dataset and focused in on the most relevant features for analysis.It also set up the data to be more readable and managable to a user.\n",
    "##### Renaming columns\n",
    "The columns were renamed to increase the interpretability of the dataset, making it easier to understand the meaning of each column as well as making the data more readable"
   ]
  },
  {
   "cell_type": "markdown",
   "id": "3ad5e17e",
   "metadata": {},
   "source": [
    "# 5. In-Depth Analysis\n",
    "---\n",
    "Initial in depth analysis to confrim heatmap findings in a different way devising which have negetive and positive corrleations towards song popularity only."
   ]
  },
  {
   "cell_type": "code",
   "execution_count": null,
   "id": "57b3854e",
   "metadata": {
    "ExecuteTime": {
     "end_time": "2024-01-29T12:14:49.462235Z",
     "start_time": "2024-01-29T12:14:49.448230Z"
    },
    "scrolled": true
   },
   "outputs": [],
   "source": [
    "relevant_columns = ['song_popularity', 'song_acousticness', 'song_danceability', \n",
    "                    'song_energy', 'song_instrumentalness', 'song_liveness', \n",
    "                    'song_loudness', 'song_speechiness', 'song_valence', 'song_tempo']\n",
    "\n",
    "\n",
    "correlation_matrix = df[relevant_columns].corr()\n",
    "\n",
    "# Print the correlation of song_popularity with other factors\n",
    "song_popularity_correlation = correlation_matrix['song_popularity']\n",
    "print(song_popularity_correlation)\n",
    "\n",
    "# Filter out non-numeric columns\n",
    "numeric_columns = df.select_dtypes(include=['number']).columns\n",
    "\n",
    "# Find the correlation coefficients between song_popularity and all other columns\n",
    "correlation_with_song_popularity = df[numeric_columns].corr()['song_popularity'].drop('song_popularity')\n",
    "\n",
    "# Find the variable with the highest correlation coefficient\n",
    "strongest_effect = correlation_with_song_popularity.abs().idxmax()\n",
    "\n",
    "# Print the variable with the strongest effect\n",
    "print(\"The strongest effect on song_popularity:\", strongest_effect , \"\\n\")\n",
    "\n",
    "\n",
    "\n",
    "# Top 10 features of positive importance\n",
    "from sklearn.ensemble import RandomForestRegressor\n",
    "numeric_columns = df.select_dtypes(include='number').columns\n",
    "X_sampled = df[numeric_columns].drop(['song_popularity'], axis=1)\n",
    "\n",
    "y_sampled = df['song_popularity']\n",
    "\n",
    "model = RandomForestRegressor()\n",
    "model.fit(X_sampled, y_sampled)\n",
    "\n",
    "feature_importances = pd.Series(model.feature_importances_, index=X_sampled.columns)\n",
    "top_10_features = feature_importances.nlargest(10)\n",
    "print(\"the top 10 things that affect a song positively\")\n",
    "print(top_10_features)\n",
    "\n",
    "\n"
   ]
  },
  {
   "cell_type": "markdown",
   "id": "d2ba4eb8",
   "metadata": {},
   "source": [
    "Descriptions and discoveries...\n",
    "\n",
    "song_acousticness: Correlation coefficient is approximately -0.183. This indicates a weak negative correlation between song popularity and acousticness. As acousticness decreases, song popularity tends to increase slightly.\n",
    "\n",
    "song_danceability: Correlation coefficient is approximately 0.086. This indicates a very weak positive correlation between song popularity and danceability. There's almost no meaningful relationship between these two variables based on this correlation coefficient.\n",
    "\n",
    "song_energy: Correlation coefficient is approximately 0.133. This indicates a weak positive correlation between song popularity and energy. As the energy of the song increases, its popularity tends to increase slightly.\n",
    "\n",
    "song_instrumentalness: Correlation coefficient is approximately -0.082. This indicates a very weak negative correlation between song popularity and instrumentalness. There's almost no meaningful relationship between these two variables based on this correlation coefficient.\n",
    "\n",
    "song_liveness: Correlation coefficient is approximately -0.039. This indicates a very weak negative correlation between song popularity and liveness. There's almost no meaningful relationship between these two variables based on this correlation coefficient.\n",
    "\n",
    "song_loudness: Correlation coefficient is approximately 0.333. This indicates a moderate positive correlation between song popularity and loudness. As the loudness of the song increases, its popularity tends to increase.\n",
    "\n",
    "song_speechiness: Correlation coefficient is approximately 0.139. This indicates a weak positive correlation between song popularity and speechiness. As the speechiness of the song increases, its popularity tends to increase slightly.\n",
    "\n",
    "song_valence: Correlation coefficient is approximately -0.171. This indicates a weak negative correlation between song popularity and valence. In other words, as the valence (positiveness) of the song decreases, its popularity tends to increase slightly.\n",
    "\n",
    "song_tempo: Correlation coefficient is approximately 0.011. This indicates almost no correlation between song popularity and tempo. There's almost no meaningful relationship between these two variables based on this correlation coefficient\n"
   ]
  },
  {
   "cell_type": "code",
   "execution_count": null,
   "id": "5521bbe7",
   "metadata": {
    "ExecuteTime": {
     "end_time": "2024-01-29T12:14:49.493232Z",
     "start_time": "2024-01-29T12:14:49.475238Z"
    }
   },
   "outputs": [],
   "source": [
    "# Randomly sample 10% of the data\n",
    "sampled_df = df.sample(frac=0.1, random_state=42)\n",
    "\n",
    "sampled_df['release_date'] = pd.to_datetime(sampled_df['release_date'])\n",
    "\n",
    "# Popularity over time\n",
    "import numpy as np\n",
    "\n",
    "# Plot the filtered data \n",
    "plt.plot(sampled_df['release_date'], sampled_df['song_popularity'], marker='o', linestyle='', markersize=5)\n",
    "plt.xlabel('Release Date')\n",
    "plt.ylabel('Song Popularity')\n",
    "plt.title('Song Popularity Over Time (Excluding Middle Dates)')\n",
    "plt.xticks(rotation=45)\n",
    "plt.show()\n",
    "\n",
    "# Popularity by genre\n",
    "plt.figure(figsize=(35, 6))\n",
    "sns.boxplot(data=sampled_df, x='artist_main_genre', y='song_popularity', palette='Set3')\n",
    "plt.xlabel('Artist Genre')\n",
    "plt.ylabel('Song Popularity')\n",
    "plt.title('Song Popularity by Artist Genre')\n",
    "plt.xticks(rotation=45, ha='right')\n",
    "plt.tight_layout()\n",
    "plt.show()\n",
    "\n",
    "import pandas as pd\n",
    "import matplotlib.pyplot as plt\n",
    "import seaborn as sns\n",
    "\n",
    "sampled_df['release_month'] = sampled_df['release_date'].dt.month\n",
    "\n",
    "# Define function to map months to seasons\n",
    "def get_season(month):\n",
    "    if month in [3, 4, 5]:   \n",
    "        return 'Spring'\n",
    "    elif month in [6, 7, 8]:  \n",
    "        return 'Summer'\n",
    "    elif month in [9, 10, 11]:  \n",
    "        return 'Autumn'\n",
    "    else:                     \n",
    "        return 'Winter'\n",
    "\n",
    "# Map months to seasons\n",
    "sampled_df['season'] = sampled_df['release_month'].apply(get_season)\n",
    "\n",
    "# Plot average song popularity by season\n",
    "plt.figure(figsize=(8, 6))\n",
    "sns.boxplot(data=sampled_df, x='season', y='song_popularity', palette='Set3')\n",
    "plt.xlabel('Season')\n",
    "plt.ylabel('Average Song Popularity')\n",
    "plt.title('Average Song Popularity by Season')\n",
    "plt.show()\n",
    "\n",
    "\n",
    "\n",
    "# Assuming 'release_date' is in datetime format\n",
    "sampled_df['release_date'] = pd.to_datetime(sampled_df['release_date'])\n",
    "\n",
    "# Extract the month and year from the release date\n",
    "sampled_df['release_month'] = sampled_df['release_date'].dt.month\n",
    "sampled_df['release_year'] = sampled_df['release_date'].dt.year\n",
    "\n",
    "# Group by genre and month, calculate standard deviation of popularity\n",
    "genre_popularity_std = sampled_df.groupby(['artist_main_genre', 'release_month'])['song_popularity'].std().reset_index()\n",
    "\n",
    "# Find genres with the highest standard deviation\n",
    "top_genres = genre_popularity_std.groupby('artist_main_genre')['song_popularity'].mean().nlargest(5).index\n",
    "\n",
    "# Filter the original dataframe to include only the top genres\n",
    "filtered_df = sampled_df[sampled_df['artist_main_genre'].isin(top_genres)]\n",
    "\n",
    "# Plot genre popularity by month for top genres\n",
    "plt.figure(figsize=(12, 6))\n",
    "sns.lineplot(data=filtered_df, x='release_month', y='song_popularity', hue='artist_main_genre', palette='Set3', marker='o')\n",
    "plt.xlabel('Month')\n",
    "plt.ylabel('Average Song Popularity')\n",
    "plt.title('Genre Popularity by Month for Top Genres with Most Drastic Changes')\n",
    "plt.legend(bbox_to_anchor=(1.05, 1), loc='upper left')\n",
    "plt.xticks(range(1, 13), ['Jan', 'Feb', 'Mar', 'Apr', 'May', 'Jun', 'Jul', 'Aug', 'Sep', 'Oct', 'Nov', 'Dec'])\n",
    "plt.tight_layout()\n",
    "plt.show()"
   ]
  },
  {
   "cell_type": "markdown",
   "id": "90bb3f07",
   "metadata": {},
   "source": [
    "Descriptions and discoveries...\n",
    "\n",
    "Popularity Over Time: The code plots the song popularity over time. Each point on the plot represents a song, with the x-axis representing the release date and the y-axis representing the song popularity. This visualization allows us to observe any trends or patterns in song popularity over time.\n",
    "\n",
    "Popularity by Genre: The code creates a boxplot showing the distribution of song popularity across different artist genres. This visualization provides insights into how song popularity varies across different genres, allowing us to identify which genres tend to have more popular songs.\n",
    "\n",
    "Seasonal Trends: The code categorizes release months into seasons (Spring, Summer, Autumn, Winter) and then creates a boxplot showing the average song popularity for each season. This visualization helps us understand whether there are any seasonal patterns in song popularity, such as certain seasons having higher average popularity than others.\n",
    "\n",
    "Genre Popularity by Month: The code identifies the top genres with the most drastic changes in popularity over different months and then plots the average song popularity by month for these top genres. This visualization allows us to see how the popularity of different genres fluctuates throughout the year and identify any seasonal trends specific to certain genres."
   ]
  },
  {
   "cell_type": "markdown",
   "id": "cb514821",
   "metadata": {},
   "source": [
    "# 6. Communicate Results\n",
    "\n",
    "\n",
    "### Executive Summary\n",
    "In our pursuit to unravel the factors influencing song popularity, we performed a comprehensive exploratory data analysis on a rich dataset of music tracks. Our visual and statistical examination has led to revealing insights into how various attributes, from acoustic features to release timing, impact the popularity of songs.\n",
    "\n",
    "### Trends Over Time\n",
    "A scatter plot analysis of song popularity over time uncovered a dense cluster of highly popular songs in the most recent decades. This trend could signify a shift in the music industry's distribution strategies or a change in how music is consumed in the digital age. The visualization suggests a more favorable reception to contemporary music, which could be attributed to the proliferation of streaming services and the internet in music distribution.\n",
    "\n",
    "### Genre-Specific Popularity\n",
    "Our genre-based analysis, represented through a boxplot, shed light on the heterogeneity of song popularity within various musical styles. It highlighted that certain genres demonstrate a wide range of popularity, potentially due to the eclectic tastes of listeners within those genres. This variability accentuates the uniqueness of musical genres and their unpredictable impact on a song's success.\n",
    "\n",
    "### Seasonal Influences\n",
    "Delving into seasonal trends, we found that song popularity exhibits slight variations across different seasons. Our boxplot visualization showed that songs released in Spring and Autumn enjoy marginally higher popularity. This seasonal effect hints at a potential strategic timing for releases by the music industry to maximize song reception.\n",
    "\n",
    "Correlation with Musical Attributes\n",
    "Through correlation analysis, we identified key musical attributes that influence song popularity:\n",
    "\n",
    "- `song_acousticness`: Negative correlation (-0.183027)\n",
    "- `song_danceability`: Positive correlation (0.086292)\n",
    "- `song_energy`: Positive correlation (0.133483)\n",
    "- `song_loudness`: Strong positive correlation (0.333249)\n",
    "These findings underscore the importance of a song's acoustic profile in determining its popularity, with energetic and louder songs generally being more popular among listeners.\n",
    "\n",
    "### Monthly Genre Popularity\n",
    "Investigating further, we observed the monthly variations in genre popularity. Our line plot revealed significant fluctuations, especially in genres such as 'glam rock' and 'detroit hip hop', throughout the year. This fluctuation could be indicative of promotional activities or seasonal listener preferences that influence a genre's popularity.\n",
    "\n",
    "## Key Takeaways\n",
    "The strongest predictor of song popularity is the album's popularity, suggesting a strong association between the success of individual tracks and the overall reception of the album they belong to. Other positive contributors to a song's popularity include its danceability and energy, aligning with the contemporary trends favoring dynamic and rhythm-driven music.\n",
    "\n",
    "## Concluding Remarks\n",
    "In summary, our exploratory analysis has highlighted the multifaceted nature of song popularity, influenced by a blend of intrinsic musical qualities and external factors such as release timing and album reception. The insights garnered from our study offer a foundation for further inquiry into the evolving landscape of music consumption and the intricate tapestry of factors that resonate with listeners worldwide."
   ]
  },
  {
   "cell_type": "markdown",
   "id": "964c7939",
   "metadata": {},
   "source": [
    "# References\n",
    "---\n",
    "The dataset we chose was called MusicOSet,\n",
    "\n",
    "DataBase Link: https://marianaossilva.github.io/DSW2019/"
   ]
  },
  {
   "cell_type": "markdown",
   "id": "dffb2f08",
   "metadata": {},
   "source": [
    "# Group Reflection\n",
    "\n",
    "---\n",
    "\n",
    "As a group we feel that we worked in an organised and concise manner, by collaborating on the work conatantly via discord and github we were able to give our all to completing each task\n",
    "\n",
    "---\n",
    "*Contribution Table*\n",
    "Member | Contribution [% effort]\n",
    "-|-\n",
    "Jamie Soan | 100%\n",
    "Angus Day | 100%\n",
    "William Heap | 100%\n",
    "kj | 100%"
   ]
  },
  {
   "cell_type": "markdown",
   "id": "b74d88fb",
   "metadata": {},
   "source": [
    "# Jamie Reflection\n",
    "---\n",
    "On the topic of group work, we used git kracken to facilitate a cohesive collaboration of our activities. This came with both good and bad sides as 3 out of the 4 of us had very little experience with it and had to learn how to handle issues when they arose. However working in branches fixed most of these issues and allowed us to code concurrently. On the topic of content within our project, some of our indpeth and exploration of the code overlapped a little which would have been solved with better communication of what exactly we were each implementing within our sections. The overall scope of the analysis we performed on our dataset provides a wide range of different and unique comaprisons and observation of patterns. A more indepth dataset with the statistics of how songs performed over time would have allowed us a much better understanding of the dataset as a whole. Currently with this dataset having only one point of reference date wise for each song, limits us greatly on what we were able to glean from our data. To solve problems like these in future plannning exactly what we want to learn from the data first (acting as our own stakeholders) will help us bet    "
   ]
  },
  {
   "cell_type": "markdown",
   "id": "5b36e1fe",
   "metadata": {},
   "source": [
    "# Angus Reflection\n",
    "---\n",
    "I believe the coursework went well, this courseowork allowed us to challenge both our programming and team management skills, through this coursework i have learnt quite a large amount around coding with datasets and collaborating around it, going into this coursework we were faced with the challenge of most of us being quite inexperienced working with git kracken however we soon were able to utilise it to streamline the process of collaborating via github.\n",
    "We were presented with some initial challenges around finding a dataset for the coursework and chose MusicOSet instead of scrubbing the data ourselves. In the process of this courseowork we fell short with time management and from this we will focus on improvement in the future, overall im satisfied with this courseowrk and our overall performance in it, were i to redo it i would allocate more time to ensure a quicker completion"
   ]
  },
  {
   "cell_type": "markdown",
   "id": "dcb05dda",
   "metadata": {},
   "source": [
    "# William Reflection\n",
    "---\n",
    "I think the coursework went well. I found the coursework rewarding and I was able to contribute to the group using my Python skills and data analysis techniques. We worked well in the group and openly communicated with each other, using gitkraken to easily edit the notebook along side each other. I encountered some challenges along the way with manipulating the database and with the use of gitkraken as I had hardly used the software previously, but I overcame those struggles as I worked through the coursework. Overall I'm happy with what I accomplished in this coursework though if I were to redo it I would have used a slightly more in-depth dataset to allow for further anaylsis of popularity in songs."
   ]
  },
  {
   "cell_type": "markdown",
   "id": "cece0720",
   "metadata": {},
   "source": [
    "# KJ Reflection\n",
    "---\n",
    "Comments... "
   ]
  }
 ],
 "metadata": {
  "kernelspec": {
   "display_name": "Python 3 (ipykernel)",
   "language": "python",
   "name": "python3"
  },
  "language_info": {
   "codemirror_mode": {
    "name": "ipython",
    "version": 3
   },
   "file_extension": ".py",
   "mimetype": "text/x-python",
   "name": "python",
   "nbconvert_exporter": "python",
   "pygments_lexer": "ipython3",
   "version": "3.10.9"
  },
  "toc": {
   "base_numbering": 1,
   "nav_menu": {},
   "number_sections": false,
   "sideBar": true,
   "skip_h1_title": false,
   "title_cell": "Table of Contents",
   "title_sidebar": "Contents",
   "toc_cell": true,
   "toc_position": {},
   "toc_section_display": true,
   "toc_window_display": false
  },
  "varInspector": {
   "cols": {
    "lenName": 16,
    "lenType": 16,
    "lenVar": 40
   },
   "kernels_config": {
    "python": {
     "delete_cmd_postfix": "",
     "delete_cmd_prefix": "del ",
     "library": "var_list.py",
     "varRefreshCmd": "print(var_dic_list())"
    },
    "r": {
     "delete_cmd_postfix": ") ",
     "delete_cmd_prefix": "rm(",
     "library": "var_list.r",
     "varRefreshCmd": "cat(var_dic_list()) "
    }
   },
   "types_to_exclude": [
    "module",
    "function",
    "builtin_function_or_method",
    "instance",
    "_Feature"
   ],
   "window_display": false
  }
 },
 "nbformat": 4,
 "nbformat_minor": 5
}
