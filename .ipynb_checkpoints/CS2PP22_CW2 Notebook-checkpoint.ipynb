{
 "cells": [
  {
   "cell_type": "markdown",
   "id": "d88f3733",
   "metadata": {},
   "source": [
    "# Introduction of new Python Package/Tool\n",
    "---\n",
    "Installation notes and any related comments:\n",
    "\n",
    "must have pydantic-settings, numpy, pandas, ydata-profiling, seaborn"
   ]
  },
  {
   "cell_type": "code",
   "execution_count": null,
   "id": "73f3f4ea",
   "metadata": {
    "ExecuteTime": {
     "end_time": "2024-01-29T12:14:49.311239Z",
     "start_time": "2024-01-29T12:14:49.299234Z"
    }
   },
   "outputs": [],
   "source": [
    "# All import statements \n",
    "# Packages Explored in Module\n",
    "import pandas as pd \n",
    "import numpy\n",
    "import matplotlib.pyplot as plt\n",
    "import os\n",
    "import seaborn as sns\n",
    "\n",
    "# New Tool for This Project\n",
    "import ydata_profiling as pp\n",
    "\n",
    "\n",
    "%matplotlib inline\n",
    "sns.set_style(\"whitegrid\")"
   ]
  },
  {
   "cell_type": "markdown",
   "id": "6e9ae5c2",
   "metadata": {},
   "source": []
  },
  {
   "cell_type": "markdown",
   "id": "8b599f7a",
   "metadata": {},
   "source": [
    "# The Evolution of Musical Attributes and Their Impact on the Popularity of Songs in the Digital Era\n",
    "\n",
    "### Problem Statement:\n",
    "In the age of digital music, the success of a song is often gauged by its popularity on streaming platforms, which can be influenced by various musical attributes. Understanding how different attributes correlate with popularity can provide insights into listener preferences and inform decisions in the music production and marketing processes.\n",
    "\n",
    "### Objective:\n",
    "\n",
    "To analyze the relationship between various song attributes such as genre, tempo, and explicit content and their popularity scores.\n",
    "To identify trends in the evolution of musical attributes over time and how they relate to shifts in listener engagement and popularity.\n",
    "To determine if there are specific patterns or characteristics that are common among highly popular songs.\n",
    "\n",
    "### Hypotheses:\n",
    "\n",
    "Songs with certain attributes, like a higher tempo or inclusion of explicit content, are more likely to achieve high popularity scores.\n",
    "Changes in listener preferences over time will reflect in the prominence of different musical attributes within the most popular songs.\n",
    "There may be a pattern of convergence or divergence in song attributes within top-charting hits compared to songs with lower popularity scores.\n",
    "\n",
    "### Research Questions:\n",
    "\n",
    "What song attributes most strongly correlate with high popularity scores within the dataset?\n",
    "How have the common attributes of popular songs changed over the past decade?\n",
    "Can we predict the potential popularity of a song based on its attributes without considering its audio features?\n",
    "\n",
    "### Significance:\n",
    "The project's findings can offer valuable insights for artists, producers, and record labels into the types of song attributes that resonate with listeners in the current music landscape. Additionally, these insights could be used to develop more targeted music recommendation systems that align with evolving listener preferences."
   ]
  },
  {
   "cell_type": "markdown",
   "id": "a6f4b628",
   "metadata": {},
   "source": [
    "# 2. Collect Data\n",
    "---"
   ]
  },
  {
   "cell_type": "markdown",
   "id": "9be466d1",
   "metadata": {},
   "source": [
    "dataset is MusicOSet"
   ]
  },
  {
   "cell_type": "code",
   "execution_count": null,
   "id": "97bef715",
   "metadata": {},
   "outputs": [],
   "source": [
    "# Get the current working directory\n",
    "cwd = os.getcwd()\n",
    "\n",
    "# Construct the path to the \"Data\" folder\n",
    "data_folder = os.path.join(cwd, \"Data\")\n",
    "\n",
    "# Initialize an empty list to store the data frames\n",
    "data_frames = {}\n",
    "\n",
    "# Loop through all files in the \"Data\" folder\n",
    "for file in os.listdir(data_folder):\n",
    "    # Check if the file is a CSV\n",
    "    if file.endswith('.csv'):\n",
    "        # Construct the full file path\n",
    "        file_path = os.path.join(data_folder, file)\n",
    "        \n",
    "        # Read the Excel file into a DataFrame\n",
    "        df = pd.read_csv(file_path, delimiter='\\t')\n",
    "        \n",
    "        # Append the DataFrame to the list\\n\",\n",
    "        data_frames[file] = df\n",
    "\n",
    "# Concatenate all the data frames into a single DataFrame\n",
    "#data = pd.concat(data_frames, ignore_index=True)\n",
    "\n",
    "data_frames['songs.csv'].columns = data_frames['songs.csv'].columns.map(lambda x : 'song_'+x if 'song_' not in x else x)\n",
    "data_frames['albums.csv'].columns = data_frames['albums.csv'].columns.map(lambda x : 'album_'+x if 'album_' not in x else x)\n",
    "data_frames['artists.csv'].columns = data_frames['artists.csv'].columns.map(lambda x : 'artist_'+x if 'artist_' not in x else x)\n",
    "data_frames['acoustic_features.csv'].columns = data_frames['acoustic_features.csv'].columns.map(lambda x : 'song_'+x if 'song_' not in x else x)\n",
    "\n",
    "# data_frames['song_chart.csv'].columns = data_frames['song_chart.csv'].columns.map(lambda x : 'song_'+x if 'song_' not in x else x)\n",
    "# data_frames['song_pop.csv'].columns = data_frames['song_pop.csv'].columns.map(lambda x : 'song_'+x if 'song_' not in x else x)\n",
    "# data_frames['album_chart.csv'].columns = data_frames['album_chart.csv'].columns.map(lambda x : 'album_'+x if 'album_' not in x else x)\n",
    "# data_frames['album_pop.csv'].columns = data_frames['album_pop.csv'].columns.map(lambda x : 'album_'+x if 'album_' not in x else x)\n",
    "# data_frames['artist_chart.csv'].columns = data_frames['artist_chart.csv'].columns.map(lambda x : 'artist_'+x if 'artist_' not in x else x)\n",
    "# data_frames['artist_pop.csv'].columns = data_frames['artist_pop.csv'].columns.map(lambda x : 'artist_'+x if 'artist_' not in x else x)\n",
    "\n",
    "data = pd.merge(data_frames['tracks.csv'], data_frames['songs.csv'], left_on = 'song_id', right_on = 'song_id', how = 'inner', suffixes=['', '_remove'])\n",
    "data = pd.merge(data, data_frames['albums.csv'], left_on = 'album_id', right_on = 'album_id', how = 'inner', suffixes=['', '_remove'])\n",
    "data = pd.merge(data, data_frames['releases.csv'], left_on = 'album_id', right_on = 'album_id', how = 'inner', suffixes=['', '_remove'])\n",
    "data = pd.merge(data, data_frames['artists.csv'], left_on = 'artist_id', right_on = 'artist_id', how = 'inner', suffixes=['', '_remove'])\n",
    "data = pd.merge(data, data_frames['acoustic_features.csv'], left_on = 'song_id', right_on = 'song_id', how = 'inner', suffixes=['', '_remove'])\n",
    "# data = pd.merge(data, data_frames['song_chart.csv'], left_on = 'song_id', right_on = 'song_id', how = 'inner', suffixes=['', '_remove'])\n",
    "# data = pd.merge(data, data_frames['song_pop.csv'], left_on = 'song_id', right_on = 'song_id', how = 'inner', suffixes=['', '_remove'])\n",
    "# data = pd.merge(data, data_frames['album_chart.csv'], left_on = 'album_id', right_on = 'album_id', how = 'inner', suffixes=['', '_remove'])\n",
    "# data = pd.merge(data, data_frames['album_pop.csv'], left_on = 'album_id', right_on = 'album_id', how = 'inner', suffixes=['', '_remove'])\n",
    "# data = pd.merge(data, data_frames['artist_chart.csv'], left_on = 'artist_id', right_on = 'artist_id', how = 'inner', suffixes=['', '_remove'])\n",
    "# data = pd.merge(data, data_frames['artist_pop.csv'], left_on = 'artist_id', right_on = 'artist_id', how = 'inner', suffixes=['', '_remove'])\n",
    "\n",
    "## Commented out merges Duplicate rows, which requries ~64GB of memmory to process, TODO: change duplicate rows to be stored as a dictornary to remove the need to duplicate rows\n",
    "\n",
    "data.drop([i for i in data.columns if 'remove' in i], axis=1, inplace=True)\n",
    "\n",
    "data.to_csv('test.csv')\n"
   ]
  },
  {
   "cell_type": "markdown",
   "id": "9cf76cad",
   "metadata": {},
   "source": [
    "# 3. Exploratory Data Analysis\n",
    "\n",
    "first we start with initial data exploration with use of .head(), .info(), .describe() to gain an understanding of the structure and summary statistics of the dataset"
   ]
  },
  {
   "cell_type": "code",
   "execution_count": null,
   "id": "fbf5a32c",
   "metadata": {
    "ExecuteTime": {
     "end_time": "2024-01-29T12:14:49.341234Z",
     "start_time": "2024-01-29T12:14:49.333243Z"
    }
   },
   "outputs": [],
   "source": [
    "# Exploration code\n",
    "print(data.head())"
   ]
  },
  {
   "cell_type": "code",
   "execution_count": null,
   "id": "0acbce9d",
   "metadata": {},
   "outputs": [],
   "source": [
    "print(data.info())"
   ]
  },
  {
   "cell_type": "code",
   "execution_count": null,
   "id": "7cbe51a6",
   "metadata": {},
   "outputs": [],
   "source": [
    "print(data.describe())"
   ]
  },
  {
   "cell_type": "code",
   "execution_count": null,
   "id": "6d649208",
   "metadata": {
    "ExecuteTime": {
     "end_time": "2024-01-29T12:14:49.356235Z",
     "start_time": "2024-01-29T12:14:49.344237Z"
    },
    "scrolled": false
   },
   "outputs": [],
   "source": [
    "# Figures\n",
    "df = data\n",
    "print(df.describe())\n",
    "\n",
    "# Check for Missing Values\n",
    "print(df.isnull().sum())\n",
    "\n",
    "# Distribution of Numeric Features\n",
    "numeric_columns = df.select_dtypes(include=['float64', 'int64']).columns\n",
    "for column in numeric_columns:\n",
    "    plt.figure(figsize=(10, 4))\n",
    "    sns.histplot(df[column], kde=True, bins=30)\n",
    "    plt.title(f'Distribution of {column}')\n",
    "    plt.xlabel(column)\n",
    "    plt.ylabel('Frequency')\n",
    "    plt.show()\n",
    "\n",
    "# Correlation Heatmap\n",
    "plt.figure(figsize=(10, 8))\n",
    "sns.heatmap(df.corr(), annot=True, cmap='coolwarm', fmt=\".2f\")\n",
    "plt.title('Correlation Heatmap')\n",
    "plt.show()"
   ]
  },
  {
   "cell_type": "markdown",
   "id": "6e779925",
   "metadata": {},
   "source": [
    "Descriptions and discoveries..."
   ]
  },
  {
   "cell_type": "markdown",
   "id": "121f228b",
   "metadata": {
    "ExecuteTime": {
     "end_time": "2024-01-29T12:14:49.371231Z",
     "start_time": "2024-01-29T12:14:49.358237Z"
    }
   },
   "source": [
    "# Exploratory Data Analysis: Correlation Heatmap Findings\n",
    "Our exploratory data analysis included a correlation heatmap to identify relationships between different attributes of songs in our dataset. Notable correlations are discussed below:\n",
    "\n",
    "Album and Song Popularity: There is a strong positive correlation (0.81) between album popularity and song popularity, suggesting that popular albums tend to feature popular songs. This could imply that an album's overall success can positively influence the popularity of its individual tracks.\n",
    "\n",
    "Song Explicitness and Popularity: Song explicitness has a moderate positive correlation (0.25) with song popularity. This could indicate that songs with explicit content have a tendency to be more popular, which may reflect current trends in music consumption.\n",
    "\n",
    "Song Features and Popularity: Several song features show moderate positive correlations with song popularity, including speechiness (0.56), and energy (0.13). Speechiness measures the presence of spoken words in a track, while energy captures the intensity and activity. Higher values in these features might correspond to traits that are characteristic of popular music.\n",
    "\n",
    "Loudness and Energy: A very strong positive correlation (0.68) is observed between loudness and energy, suggesting that louder tracks are often perceived as more energetic. This is consistent with the idea that higher energy in songs is often associated with higher volume levels.\n",
    "\n",
    "Acousticness and Instrumentalness: Both acousticness and instrumentalness have a strong negative correlation with loudness (-0.39 and -0.39 respectively). This implies that songs with more acoustic and instrumental elements tend to be quieter.\n",
    "\n",
    "Danceability, Valence, and Tempo: Danceability shows a small positive correlation with valence (0.21) and tempo (0.21), indicating that songs that are more danceable tend to be happier (higher valence) and faster-paced. However, the correlation is not strong enough to draw definitive conclusions, and further analysis might be required."
   ]
  },
  {
   "cell_type": "code",
   "execution_count": null,
   "id": "a5829a82",
   "metadata": {
    "ExecuteTime": {
     "end_time": "2024-01-29T12:14:49.386233Z",
     "start_time": "2024-01-29T12:14:49.373235Z"
    }
   },
   "outputs": [],
   "source": [
    "# Figures\n",
    "    \n"
   ]
  },
  {
   "cell_type": "markdown",
   "id": "605de327",
   "metadata": {},
   "source": [
    "Descriptions and discoveries..."
   ]
  },
  {
   "cell_type": "code",
   "execution_count": null,
   "id": "3e1ab033",
   "metadata": {
    "ExecuteTime": {
     "end_time": "2024-01-29T12:14:49.401231Z",
     "start_time": "2024-01-29T12:14:49.389233Z"
    }
   },
   "outputs": [],
   "source": [
    "# Exploration code (potential integration of module code)"
   ]
  },
  {
   "cell_type": "code",
   "execution_count": null,
   "id": "a4990498",
   "metadata": {
    "ExecuteTime": {
     "end_time": "2024-01-29T12:14:49.416231Z",
     "start_time": "2024-01-29T12:14:49.404234Z"
    }
   },
   "outputs": [],
   "source": [
    "# Figures (potential integration of module code)"
   ]
  },
  {
   "cell_type": "markdown",
   "id": "f11bfc96",
   "metadata": {},
   "source": [
    "Descriptions and discoveries..."
   ]
  },
  {
   "cell_type": "markdown",
   "id": "dc9f6c9d",
   "metadata": {},
   "source": [
    "# 4. Data Pre-Processing\n",
    "---\n",
    "Explanations..."
   ]
  },
  {
   "cell_type": "code",
   "execution_count": null,
   "id": "c09b5ecb",
   "metadata": {
    "ExecuteTime": {
     "end_time": "2024-01-29T12:14:49.431231Z",
     "start_time": "2024-01-29T12:14:49.419239Z"
    }
   },
   "outputs": [],
   "source": [
    "# Data manipulation 1 (potential integration of module code)"
   ]
  },
  {
   "cell_type": "code",
   "execution_count": null,
   "id": "289a9a3f",
   "metadata": {
    "ExecuteTime": {
     "end_time": "2024-01-29T12:14:49.446228Z",
     "start_time": "2024-01-29T12:14:49.435232Z"
    }
   },
   "outputs": [],
   "source": [
    "# Data manipulation 2 (potential integration of module code)"
   ]
  },
  {
   "cell_type": "markdown",
   "id": "013259a6",
   "metadata": {},
   "source": [
    "Related discussion..."
   ]
  },
  {
   "cell_type": "markdown",
   "id": "3ad5e17e",
   "metadata": {},
   "source": [
    "# 5. In-Depth Analysis\n",
    "---\n",
    "Explanations..."
   ]
  },
  {
   "cell_type": "code",
   "execution_count": null,
   "id": "57b3854e",
   "metadata": {
    "ExecuteTime": {
     "end_time": "2024-01-29T12:14:49.462235Z",
     "start_time": "2024-01-29T12:14:49.448230Z"
    }
   },
   "outputs": [],
   "source": [
    "# Implementations (potential integration of module code)"
   ]
  },
  {
   "cell_type": "markdown",
   "id": "d2ba4eb8",
   "metadata": {},
   "source": [
    "Descriptions and discoveries..."
   ]
  },
  {
   "cell_type": "code",
   "execution_count": null,
   "id": "5521bbe7",
   "metadata": {
    "ExecuteTime": {
     "end_time": "2024-01-29T12:14:49.493232Z",
     "start_time": "2024-01-29T12:14:49.475238Z"
    }
   },
   "outputs": [],
   "source": [
    "# Visualisations (potential integration of module code)"
   ]
  },
  {
   "cell_type": "markdown",
   "id": "90bb3f07",
   "metadata": {},
   "source": [
    "Descriptions and discoveries..."
   ]
  },
  {
   "cell_type": "code",
   "execution_count": null,
   "id": "955b784f",
   "metadata": {
    "ExecuteTime": {
     "end_time": "2024-01-29T12:14:49.506230Z",
     "start_time": "2024-01-29T12:14:49.496233Z"
    }
   },
   "outputs": [],
   "source": [
    "# Evaluations (potential integration of module code)"
   ]
  },
  {
   "cell_type": "markdown",
   "id": "facfdfa8",
   "metadata": {},
   "source": [
    "Descriptions and discoveries..."
   ]
  },
  {
   "cell_type": "code",
   "execution_count": null,
   "id": "cf5db850",
   "metadata": {
    "ExecuteTime": {
     "end_time": "2024-01-29T12:14:49.536230Z",
     "start_time": "2024-01-29T12:14:49.518230Z"
    }
   },
   "outputs": [],
   "source": [
    "# Visualisations (potential integration of module code)"
   ]
  },
  {
   "cell_type": "markdown",
   "id": "03f6b317",
   "metadata": {},
   "source": [
    "Descriptions and discoveries..."
   ]
  },
  {
   "cell_type": "markdown",
   "id": "cb514821",
   "metadata": {},
   "source": [
    "# 6. Communicate Results\n",
    "---\n",
    "Overall conclusions..."
   ]
  },
  {
   "cell_type": "markdown",
   "id": "964c7939",
   "metadata": {},
   "source": [
    "# References\n",
    "---\n",
    "DataBase Link: https://marianaossilva.github.io/DSW2019/"
   ]
  },
  {
   "cell_type": "markdown",
   "id": "dffb2f08",
   "metadata": {},
   "source": [
    "# Group Reflection\n",
    "\n",
    "---\n",
    "\n",
    "Comments...\n",
    "\n",
    "---\n",
    "*Optional Unequal Contribution Table*\n",
    "Member | Contribution [% effort]\n",
    "-|-\n",
    "Jamie Soan | 100%\n",
    "Angus Day | 100%\n",
    "William Heap | 100%\n",
    "kj | 100%"
   ]
  },
  {
   "cell_type": "markdown",
   "id": "b74d88fb",
   "metadata": {},
   "source": [
    "# Jamie Reflection\n",
    "---\n",
    "Comments... smells"
   ]
  },
  {
   "cell_type": "markdown",
   "id": "5b36e1fe",
   "metadata": {},
   "source": [
    "# Angus Reflection\n",
    "---\n",
    "Comments..."
   ]
  },
  {
   "cell_type": "markdown",
   "id": "dcb05dda",
   "metadata": {},
   "source": [
    "# William Reflection\n",
    "---\n",
    "Comments..."
   ]
  },
  {
   "cell_type": "markdown",
   "id": "cece0720",
   "metadata": {},
   "source": [
    "# KJ Reflection\n",
    "---\n",
    "Comments..."
   ]
  },
  {
   "cell_type": "markdown",
   "id": "b2791667",
   "metadata": {},
   "source": [
    "# JKL Reflection\n",
    "---\n",
    "Comments..."
   ]
  }
 ],
 "metadata": {
  "kernelspec": {
   "display_name": "Python 3 (ipykernel)",
   "language": "python",
   "name": "python3"
  },
  "language_info": {
   "codemirror_mode": {
    "name": "ipython",
    "version": 3
   },
   "file_extension": ".py",
   "mimetype": "text/x-python",
   "name": "python",
   "nbconvert_exporter": "python",
   "pygments_lexer": "ipython3",
   "version": "3.10.9"
  },
  "toc": {
   "base_numbering": 1,
   "nav_menu": {},
   "number_sections": false,
   "sideBar": true,
   "skip_h1_title": false,
   "title_cell": "Table of Contents",
   "title_sidebar": "Contents",
   "toc_cell": true,
   "toc_position": {},
   "toc_section_display": true,
   "toc_window_display": false
  },
  "varInspector": {
   "cols": {
    "lenName": 16,
    "lenType": 16,
    "lenVar": 40
   },
   "kernels_config": {
    "python": {
     "delete_cmd_postfix": "",
     "delete_cmd_prefix": "del ",
     "library": "var_list.py",
     "varRefreshCmd": "print(var_dic_list())"
    },
    "r": {
     "delete_cmd_postfix": ") ",
     "delete_cmd_prefix": "rm(",
     "library": "var_list.r",
     "varRefreshCmd": "cat(var_dic_list()) "
    }
   },
   "types_to_exclude": [
    "module",
    "function",
    "builtin_function_or_method",
    "instance",
    "_Feature"
   ],
   "window_display": false
  }
 },
 "nbformat": 4,
 "nbformat_minor": 5
}
