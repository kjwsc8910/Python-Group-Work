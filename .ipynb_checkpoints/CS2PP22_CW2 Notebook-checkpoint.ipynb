{
 "cells": [
  {
   "cell_type": "markdown",
   "id": "d88f3733",
   "metadata": {},
   "source": [
    "# Introduction of new Python Package/Tool\n",
    "---\n",
    "Installation notes and any related comments..."
   ]
  },
  {
   "cell_type": "code",
   "execution_count": 1,
   "id": "060ef6a9",
   "metadata": {},
   "outputs": [
    {
     "name": "stdout",
     "output_type": "stream",
     "text": [
      "Collecting pandas-profiling\n",
      "  Downloading pandas_profiling-3.6.6-py2.py3-none-any.whl (324 kB)\n",
      "     ------------------------------------- 324.4/324.4 kB 10.1 MB/s eta 0:00:00\n",
      "Collecting ydata-profiling\n",
      "  Downloading ydata_profiling-4.6.5-py2.py3-none-any.whl (357 kB)\n",
      "     ------------------------------------- 357.9/357.9 kB 21.7 MB/s eta 0:00:00\n",
      "Requirement already satisfied: matplotlib<3.9,>=3.2 in c:\\users\\angus\\anaconda3\\lib\\site-packages (from ydata-profiling->pandas-profiling) (3.7.0)\n",
      "Collecting phik<0.13,>=0.11.1\n",
      "  Downloading phik-0.12.4-cp310-cp310-win_amd64.whl (666 kB)\n",
      "     ------------------------------------- 666.2/666.2 kB 20.5 MB/s eta 0:00:00\n",
      "Collecting typeguard<5,>=4.1.2\n",
      "  Downloading typeguard-4.1.5-py3-none-any.whl (34 kB)\n",
      "Requirement already satisfied: requests<3,>=2.24.0 in c:\\users\\angus\\anaconda3\\lib\\site-packages (from ydata-profiling->pandas-profiling) (2.28.1)\n",
      "Collecting wordcloud>=1.9.1\n",
      "  Downloading wordcloud-1.9.3-cp310-cp310-win_amd64.whl (299 kB)\n",
      "     ------------------------------------- 300.0/300.0 kB 18.1 MB/s eta 0:00:00\n",
      "Requirement already satisfied: PyYAML<6.1,>=5.0.0 in c:\\users\\angus\\anaconda3\\lib\\site-packages (from ydata-profiling->pandas-profiling) (6.0)\n",
      "Requirement already satisfied: seaborn<0.13,>=0.10.1 in c:\\users\\angus\\anaconda3\\lib\\site-packages (from ydata-profiling->pandas-profiling) (0.12.2)\n",
      "Requirement already satisfied: jinja2<3.2,>=2.11.1 in c:\\users\\angus\\anaconda3\\lib\\site-packages (from ydata-profiling->pandas-profiling) (3.1.2)\n",
      "Collecting imagehash==4.3.1\n",
      "  Downloading ImageHash-4.3.1-py2.py3-none-any.whl (296 kB)\n",
      "     ---------------------------------------- 296.5/296.5 kB ? eta 0:00:00\n",
      "Collecting multimethod<2,>=1.4\n",
      "  Downloading multimethod-1.11.2-py3-none-any.whl (10 kB)\n",
      "Requirement already satisfied: pandas!=1.4.0,<3,>1.1 in c:\\users\\angus\\anaconda3\\lib\\site-packages (from ydata-profiling->pandas-profiling) (1.5.3)\n",
      "Collecting visions[type_image_path]==0.7.5\n",
      "  Downloading visions-0.7.5-py3-none-any.whl (102 kB)\n",
      "     ---------------------------------------- 102.7/102.7 kB ? eta 0:00:00\n",
      "Requirement already satisfied: tqdm<5,>=4.48.2 in c:\\users\\angus\\anaconda3\\lib\\site-packages (from ydata-profiling->pandas-profiling) (4.64.1)\n",
      "Requirement already satisfied: numba<0.59.0,>=0.56.0 in c:\\users\\angus\\anaconda3\\lib\\site-packages (from ydata-profiling->pandas-profiling) (0.56.4)\n",
      "Requirement already satisfied: numpy<1.26,>=1.16.0 in c:\\users\\angus\\anaconda3\\lib\\site-packages (from ydata-profiling->pandas-profiling) (1.23.5)\n",
      "Collecting pydantic>=2\n",
      "  Downloading pydantic-2.6.3-py3-none-any.whl (395 kB)\n",
      "     ------------------------------------- 395.2/395.2 kB 24.1 MB/s eta 0:00:00\n",
      "Collecting htmlmin==0.1.12\n",
      "  Downloading htmlmin-0.1.12.tar.gz (19 kB)\n",
      "  Preparing metadata (setup.py): started\n",
      "  Preparing metadata (setup.py): finished with status 'done'\n",
      "Requirement already satisfied: statsmodels<1,>=0.13.2 in c:\\users\\angus\\anaconda3\\lib\\site-packages (from ydata-profiling->pandas-profiling) (0.13.5)\n",
      "Collecting dacite>=1.8\n",
      "  Downloading dacite-1.8.1-py3-none-any.whl (14 kB)\n",
      "Requirement already satisfied: scipy<1.12,>=1.4.1 in c:\\users\\angus\\anaconda3\\lib\\site-packages (from ydata-profiling->pandas-profiling) (1.10.0)\n",
      "Requirement already satisfied: PyWavelets in c:\\users\\angus\\anaconda3\\lib\\site-packages (from imagehash==4.3.1->ydata-profiling->pandas-profiling) (1.4.1)\n",
      "Requirement already satisfied: pillow in c:\\users\\angus\\anaconda3\\lib\\site-packages (from imagehash==4.3.1->ydata-profiling->pandas-profiling) (10.0.1)\n",
      "Collecting tangled-up-in-unicode>=0.0.4\n",
      "  Downloading tangled_up_in_unicode-0.2.0-py3-none-any.whl (4.7 MB)\n",
      "     ---------------------------------------- 4.7/4.7 MB 23.3 MB/s eta 0:00:00\n",
      "Requirement already satisfied: networkx>=2.4 in c:\\users\\angus\\anaconda3\\lib\\site-packages (from visions[type_image_path]==0.7.5->ydata-profiling->pandas-profiling) (2.8.4)\n",
      "Requirement already satisfied: attrs>=19.3.0 in c:\\users\\angus\\anaconda3\\lib\\site-packages (from visions[type_image_path]==0.7.5->ydata-profiling->pandas-profiling) (22.1.0)\n",
      "Requirement already satisfied: MarkupSafe>=2.0 in c:\\users\\angus\\anaconda3\\lib\\site-packages (from jinja2<3.2,>=2.11.1->ydata-profiling->pandas-profiling) (2.1.1)\n",
      "Requirement already satisfied: python-dateutil>=2.7 in c:\\users\\angus\\anaconda3\\lib\\site-packages (from matplotlib<3.9,>=3.2->ydata-profiling->pandas-profiling) (2.8.2)\n",
      "Requirement already satisfied: packaging>=20.0 in c:\\users\\angus\\anaconda3\\lib\\site-packages (from matplotlib<3.9,>=3.2->ydata-profiling->pandas-profiling) (22.0)\n",
      "Requirement already satisfied: fonttools>=4.22.0 in c:\\users\\angus\\anaconda3\\lib\\site-packages (from matplotlib<3.9,>=3.2->ydata-profiling->pandas-profiling) (4.25.0)\n",
      "Requirement already satisfied: cycler>=0.10 in c:\\users\\angus\\anaconda3\\lib\\site-packages (from matplotlib<3.9,>=3.2->ydata-profiling->pandas-profiling) (0.11.0)\n",
      "Requirement already satisfied: kiwisolver>=1.0.1 in c:\\users\\angus\\anaconda3\\lib\\site-packages (from matplotlib<3.9,>=3.2->ydata-profiling->pandas-profiling) (1.4.4)\n",
      "Requirement already satisfied: pyparsing>=2.3.1 in c:\\users\\angus\\anaconda3\\lib\\site-packages (from matplotlib<3.9,>=3.2->ydata-profiling->pandas-profiling) (3.0.9)\n",
      "Requirement already satisfied: contourpy>=1.0.1 in c:\\users\\angus\\anaconda3\\lib\\site-packages (from matplotlib<3.9,>=3.2->ydata-profiling->pandas-profiling) (1.0.5)\n",
      "Requirement already satisfied: llvmlite<0.40,>=0.39.0dev0 in c:\\users\\angus\\anaconda3\\lib\\site-packages (from numba<0.59.0,>=0.56.0->ydata-profiling->pandas-profiling) (0.39.1)\n",
      "Requirement already satisfied: setuptools in c:\\users\\angus\\anaconda3\\lib\\site-packages (from numba<0.59.0,>=0.56.0->ydata-profiling->pandas-profiling) (65.6.3)\n",
      "Requirement already satisfied: pytz>=2020.1 in c:\\users\\angus\\anaconda3\\lib\\site-packages (from pandas!=1.4.0,<3,>1.1->ydata-profiling->pandas-profiling) (2022.7)\n",
      "Requirement already satisfied: joblib>=0.14.1 in c:\\users\\angus\\anaconda3\\lib\\site-packages (from phik<0.13,>=0.11.1->ydata-profiling->pandas-profiling) (1.1.1)\n",
      "Collecting annotated-types>=0.4.0\n",
      "  Downloading annotated_types-0.6.0-py3-none-any.whl (12 kB)\n",
      "Collecting pydantic-core==2.16.3\n",
      "  Downloading pydantic_core-2.16.3-cp310-none-win_amd64.whl (1.9 MB)\n",
      "     ---------------------------------------- 1.9/1.9 MB 19.9 MB/s eta 0:00:00\n",
      "Collecting typing-extensions>=4.6.1\n",
      "  Downloading typing_extensions-4.10.0-py3-none-any.whl (33 kB)\n",
      "Requirement already satisfied: urllib3<1.27,>=1.21.1 in c:\\users\\angus\\anaconda3\\lib\\site-packages (from requests<3,>=2.24.0->ydata-profiling->pandas-profiling) (1.26.14)\n",
      "Requirement already satisfied: certifi>=2017.4.17 in c:\\users\\angus\\anaconda3\\lib\\site-packages (from requests<3,>=2.24.0->ydata-profiling->pandas-profiling) (2024.2.2)\n",
      "Requirement already satisfied: charset-normalizer<3,>=2 in c:\\users\\angus\\anaconda3\\lib\\site-packages (from requests<3,>=2.24.0->ydata-profiling->pandas-profiling) (2.0.4)\n",
      "Requirement already satisfied: idna<4,>=2.5 in c:\\users\\angus\\anaconda3\\lib\\site-packages (from requests<3,>=2.24.0->ydata-profiling->pandas-profiling) (3.4)\n",
      "Requirement already satisfied: patsy>=0.5.2 in c:\\users\\angus\\anaconda3\\lib\\site-packages (from statsmodels<1,>=0.13.2->ydata-profiling->pandas-profiling) (0.5.3)\n",
      "Requirement already satisfied: colorama in c:\\users\\angus\\anaconda3\\lib\\site-packages (from tqdm<5,>=4.48.2->ydata-profiling->pandas-profiling) (0.4.6)\n",
      "Requirement already satisfied: six in c:\\users\\angus\\anaconda3\\lib\\site-packages (from patsy>=0.5.2->statsmodels<1,>=0.13.2->ydata-profiling->pandas-profiling) (1.16.0)\n",
      "Building wheels for collected packages: htmlmin\n",
      "  Building wheel for htmlmin (setup.py): started\n",
      "  Building wheel for htmlmin (setup.py): finished with status 'done'\n",
      "  Created wheel for htmlmin: filename=htmlmin-0.1.12-py3-none-any.whl size=27092 sha256=0cd41ff9ec0f132ddc6cdf3fc4dfe4f7d78a905f5122b83fa6b3c9ac2b17d97c\n",
      "  Stored in directory: c:\\users\\angus\\appdata\\local\\pip\\cache\\wheels\\ea\\1c\\a8\\5cec3479cd45136a7111e2d96aac299b219b199c411665250b\n",
      "Successfully built htmlmin\n",
      "Installing collected packages: htmlmin, typing-extensions, tangled-up-in-unicode, multimethod, dacite, annotated-types, typeguard, pydantic-core, imagehash, wordcloud, visions, pydantic, phik, ydata-profiling, pandas-profiling\n",
      "  Attempting uninstall: typing-extensions\n",
      "    Found existing installation: typing_extensions 4.4.0\n",
      "    Uninstalling typing_extensions-4.4.0:\n",
      "      Successfully uninstalled typing_extensions-4.4.0\n",
      "  Attempting uninstall: pydantic\n",
      "    Found existing installation: pydantic 1.10.12\n",
      "    Uninstalling pydantic-1.10.12:\n",
      "      Successfully uninstalled pydantic-1.10.12\n",
      "Successfully installed annotated-types-0.6.0 dacite-1.8.1 htmlmin-0.1.12 imagehash-4.3.1 multimethod-1.11.2 pandas-profiling-3.6.6 phik-0.12.4 pydantic-2.6.3 pydantic-core-2.16.3 tangled-up-in-unicode-0.2.0 typeguard-4.1.5 typing-extensions-4.10.0 visions-0.7.5 wordcloud-1.9.3 ydata-profiling-4.6.5\n",
      "Note: you may need to restart the kernel to use updated packages.\n"
     ]
    },
    {
     "name": "stderr",
     "output_type": "stream",
     "text": [
      "ERROR: pip's dependency resolver does not currently take into account all the packages that are installed. This behaviour is the source of the following dependency conflicts.\n",
      "anaconda-cloud-auth 0.1.4 requires pydantic<2.0, but you have pydantic 2.6.3 which is incompatible.\n"
     ]
    }
   ],
   "source": [
    "pip install pandas-profiling"
   ]
  },
  {
   "cell_type": "code",
   "execution_count": 1,
   "id": "73f3f4ea",
   "metadata": {
    "ExecuteTime": {
     "end_time": "2024-01-29T12:14:49.311239Z",
     "start_time": "2024-01-29T12:14:49.299234Z"
    }
   },
   "outputs": [],
   "source": [
    "# All import statements\n",
    "import pandas as pp \n",
    "# Packages Explored in Module\n",
    "import typicalPackages\n",
    "\n",
    "# New Tool for This Project\n",
    "import newPackage\n",
    "\n",
    "# Individually written tools from module files\n",
    "from myModule_TRJ import analysisFunction_TRJ\n",
    "from myModule_ABC import makeAFigure_ABC\n",
    "from myModule_DEF import supportingClass_DEF\n",
    "from myModule_GHI import classWithMethod_GHI\n",
    "from myModule_JKL import neatTrickFunction_JKL"
   ]
  },
  {
   "cell_type": "markdown",
   "id": "6e9ae5c2",
   "metadata": {},
   "source": []
  },
  {
   "cell_type": "markdown",
   "id": "8b599f7a",
   "metadata": {},
   "source": [
    "# 1. Frame the Problem\n",
    "---\n",
    "Comments..."
   ]
  },
  {
   "cell_type": "markdown",
   "id": "a6f4b628",
   "metadata": {},
   "source": [
    "# 2. Collect Data\n",
    "---"
   ]
  },
  {
   "cell_type": "markdown",
   "id": "9be466d1",
   "metadata": {},
   "source": [
    "dataset is MusicOSet"
   ]
  },
  {
   "cell_type": "code",
   "execution_count": 2,
   "id": "93fd0aac",
   "metadata": {
    "ExecuteTime": {
     "end_time": "2024-01-29T12:14:49.326235Z",
     "start_time": "2024-01-29T12:14:49.314234Z"
    }
   },
   "outputs": [],
   "source": [
    "# Code to read in data"
   ]
  },
  {
   "cell_type": "markdown",
   "id": "9cf76cad",
   "metadata": {},
   "source": [
    "# 3. Exploratory Data Analysis\n",
    "---\n",
    "Comments..."
   ]
  },
  {
   "cell_type": "code",
   "execution_count": 3,
   "id": "fbf5a32c",
   "metadata": {
    "ExecuteTime": {
     "end_time": "2024-01-29T12:14:49.341234Z",
     "start_time": "2024-01-29T12:14:49.333243Z"
    }
   },
   "outputs": [],
   "source": [
    "# Exploration code"
   ]
  },
  {
   "cell_type": "code",
   "execution_count": 4,
   "id": "6d649208",
   "metadata": {
    "ExecuteTime": {
     "end_time": "2024-01-29T12:14:49.356235Z",
     "start_time": "2024-01-29T12:14:49.344237Z"
    }
   },
   "outputs": [],
   "source": [
    "# Figures"
   ]
  },
  {
   "cell_type": "markdown",
   "id": "6e779925",
   "metadata": {},
   "source": [
    "Descriptions and discoveries..."
   ]
  },
  {
   "cell_type": "code",
   "execution_count": 5,
   "id": "61a00c75",
   "metadata": {
    "ExecuteTime": {
     "end_time": "2024-01-29T12:14:49.371231Z",
     "start_time": "2024-01-29T12:14:49.358237Z"
    }
   },
   "outputs": [],
   "source": [
    "# Exploration code"
   ]
  },
  {
   "cell_type": "code",
   "execution_count": 6,
   "id": "a5829a82",
   "metadata": {
    "ExecuteTime": {
     "end_time": "2024-01-29T12:14:49.386233Z",
     "start_time": "2024-01-29T12:14:49.373235Z"
    }
   },
   "outputs": [],
   "source": [
    "# Figures"
   ]
  },
  {
   "cell_type": "markdown",
   "id": "605de327",
   "metadata": {},
   "source": [
    "Descriptions and discoveries..."
   ]
  },
  {
   "cell_type": "code",
   "execution_count": 7,
   "id": "3e1ab033",
   "metadata": {
    "ExecuteTime": {
     "end_time": "2024-01-29T12:14:49.401231Z",
     "start_time": "2024-01-29T12:14:49.389233Z"
    }
   },
   "outputs": [],
   "source": [
    "# Exploration code (potential integration of module code)"
   ]
  },
  {
   "cell_type": "code",
   "execution_count": 8,
   "id": "a4990498",
   "metadata": {
    "ExecuteTime": {
     "end_time": "2024-01-29T12:14:49.416231Z",
     "start_time": "2024-01-29T12:14:49.404234Z"
    }
   },
   "outputs": [],
   "source": [
    "# Figures (potential integration of module code)"
   ]
  },
  {
   "cell_type": "markdown",
   "id": "f11bfc96",
   "metadata": {},
   "source": [
    "Descriptions and discoveries..."
   ]
  },
  {
   "cell_type": "markdown",
   "id": "dc9f6c9d",
   "metadata": {},
   "source": [
    "# 4. Data Pre-Processing\n",
    "---\n",
    "Explanations..."
   ]
  },
  {
   "cell_type": "code",
   "execution_count": 9,
   "id": "c09b5ecb",
   "metadata": {
    "ExecuteTime": {
     "end_time": "2024-01-29T12:14:49.431231Z",
     "start_time": "2024-01-29T12:14:49.419239Z"
    }
   },
   "outputs": [],
   "source": [
    "# Data manipulation 1 (potential integration of module code)"
   ]
  },
  {
   "cell_type": "code",
   "execution_count": 10,
   "id": "289a9a3f",
   "metadata": {
    "ExecuteTime": {
     "end_time": "2024-01-29T12:14:49.446228Z",
     "start_time": "2024-01-29T12:14:49.435232Z"
    }
   },
   "outputs": [],
   "source": [
    "# Data manipulation 2 (potential integration of module code)"
   ]
  },
  {
   "cell_type": "markdown",
   "id": "013259a6",
   "metadata": {},
   "source": [
    "Related discussion..."
   ]
  },
  {
   "cell_type": "markdown",
   "id": "3ad5e17e",
   "metadata": {},
   "source": [
    "# 5. In-Depth Analysis\n",
    "---\n",
    "Explanations..."
   ]
  },
  {
   "cell_type": "code",
   "execution_count": 11,
   "id": "57b3854e",
   "metadata": {
    "ExecuteTime": {
     "end_time": "2024-01-29T12:14:49.462235Z",
     "start_time": "2024-01-29T12:14:49.448230Z"
    }
   },
   "outputs": [],
   "source": [
    "# Implementations (potential integration of module code)"
   ]
  },
  {
   "cell_type": "markdown",
   "id": "d2ba4eb8",
   "metadata": {},
   "source": [
    "Descriptions and discoveries..."
   ]
  },
  {
   "cell_type": "code",
   "execution_count": 12,
   "id": "5521bbe7",
   "metadata": {
    "ExecuteTime": {
     "end_time": "2024-01-29T12:14:49.493232Z",
     "start_time": "2024-01-29T12:14:49.475238Z"
    }
   },
   "outputs": [],
   "source": [
    "# Visualisations (potential integration of module code)"
   ]
  },
  {
   "cell_type": "markdown",
   "id": "90bb3f07",
   "metadata": {},
   "source": [
    "Descriptions and discoveries..."
   ]
  },
  {
   "cell_type": "code",
   "execution_count": 13,
   "id": "955b784f",
   "metadata": {
    "ExecuteTime": {
     "end_time": "2024-01-29T12:14:49.506230Z",
     "start_time": "2024-01-29T12:14:49.496233Z"
    }
   },
   "outputs": [],
   "source": [
    "# Evaluations (potential integration of module code)"
   ]
  },
  {
   "cell_type": "markdown",
   "id": "facfdfa8",
   "metadata": {},
   "source": [
    "Descriptions and discoveries..."
   ]
  },
  {
   "cell_type": "code",
   "execution_count": 14,
   "id": "cf5db850",
   "metadata": {
    "ExecuteTime": {
     "end_time": "2024-01-29T12:14:49.536230Z",
     "start_time": "2024-01-29T12:14:49.518230Z"
    }
   },
   "outputs": [],
   "source": [
    "# Visualisations (potential integration of module code)"
   ]
  },
  {
   "cell_type": "markdown",
   "id": "03f6b317",
   "metadata": {},
   "source": [
    "Descriptions and discoveries..."
   ]
  },
  {
   "cell_type": "markdown",
   "id": "cb514821",
   "metadata": {},
   "source": [
    "# 6. Communicate Results\n",
    "---\n",
    "Overall conclusions..."
   ]
  },
  {
   "cell_type": "markdown",
   "id": "964c7939",
   "metadata": {},
   "source": [
    "# References\n",
    "---\n",
    "..."
   ]
  },
  {
   "cell_type": "markdown",
   "id": "dffb2f08",
   "metadata": {},
   "source": [
    "# Group Reflection\n",
    "\n",
    "---\n",
    "\n",
    "Comments...\n",
    "\n",
    "---\n",
    "*Optional Unequal Contribution Table*\n",
    "Member | Contribution [% effort]\n",
    "-|-\n",
    "TRJ | 86%\n",
    "ABC | 100%\n",
    "DEF | 10%\n",
    "GHI | 100%\n",
    "JKL | 50%"
   ]
  },
  {
   "cell_type": "markdown",
   "id": "b74d88fb",
   "metadata": {},
   "source": [
    "# TRJ Reflection\n",
    "---\n",
    "Comments..."
   ]
  },
  {
   "cell_type": "markdown",
   "id": "5b36e1fe",
   "metadata": {},
   "source": [
    "# ABC Reflection\n",
    "---\n",
    "Comments..."
   ]
  },
  {
   "cell_type": "markdown",
   "id": "dcb05dda",
   "metadata": {},
   "source": [
    "# DEF Reflection\n",
    "---\n",
    "Comments..."
   ]
  },
  {
   "cell_type": "markdown",
   "id": "cece0720",
   "metadata": {},
   "source": [
    "# GHI Reflection\n",
    "---\n",
    "Comments..."
   ]
  },
  {
   "cell_type": "markdown",
   "id": "b2791667",
   "metadata": {},
   "source": [
    "# JKL Reflection\n",
    "---\n",
    "Comments..."
   ]
  }
 ],
 "metadata": {
  "kernelspec": {
   "display_name": "Python 3 (ipykernel)",
   "language": "python",
   "name": "python3"
  },
  "language_info": {
   "codemirror_mode": {
    "name": "ipython",
    "version": 3
   },
   "file_extension": ".py",
   "mimetype": "text/x-python",
   "name": "python",
   "nbconvert_exporter": "python",
   "pygments_lexer": "ipython3",
   "version": "3.10.9"
  },
  "toc": {
   "base_numbering": 1,
   "nav_menu": {},
   "number_sections": false,
   "sideBar": true,
   "skip_h1_title": false,
   "title_cell": "Table of Contents",
   "title_sidebar": "Contents",
   "toc_cell": true,
   "toc_position": {},
   "toc_section_display": true,
   "toc_window_display": false
  },
  "varInspector": {
   "cols": {
    "lenName": 16,
    "lenType": 16,
    "lenVar": 40
   },
   "kernels_config": {
    "python": {
     "delete_cmd_postfix": "",
     "delete_cmd_prefix": "del ",
     "library": "var_list.py",
     "varRefreshCmd": "print(var_dic_list())"
    },
    "r": {
     "delete_cmd_postfix": ") ",
     "delete_cmd_prefix": "rm(",
     "library": "var_list.r",
     "varRefreshCmd": "cat(var_dic_list()) "
    }
   },
   "types_to_exclude": [
    "module",
    "function",
    "builtin_function_or_method",
    "instance",
    "_Feature"
   ],
   "window_display": false
  }
 },
 "nbformat": 4,
 "nbformat_minor": 5
}
