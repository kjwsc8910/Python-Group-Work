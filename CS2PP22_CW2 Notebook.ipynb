{
 "cells": [
  {
   "cell_type": "markdown",
   "id": "d88f3733",
   "metadata": {},
   "source": [
    "# Introduction of new Python Package/Tool\n",
    "---\n",
    "Installation notes and any related comments:\n",
    "\n",
    "must have pydantic-settings, numpy, pandas, ydata-profiling, seaborn"
   ]
  },
  {
   "cell_type": "code",
   "execution_count": 1,
   "id": "73f3f4ea",
   "metadata": {
    "ExecuteTime": {
     "end_time": "2024-01-29T12:14:49.311239Z",
     "start_time": "2024-01-29T12:14:49.299234Z"
    }
   },
   "outputs": [],
   "source": [
    "# All import statements \n",
    "# Packages Explored in Module\n",
    "import pandas as pd \n",
    "import numpy\n",
    "import matplotlib.pyplot as plt\n",
    "import os\n",
    "import seaborn as sns\n",
    "\n",
    "# New Tool for This Project\n",
    "import ydata_profiling as pp\n",
    "\n",
    "\n",
    "%matplotlib inline\n",
    "sns.set_style(\"whitegrid\")"
   ]
  },
  {
   "cell_type": "markdown",
   "id": "6e9ae5c2",
   "metadata": {},
   "source": []
  },
  {
   "cell_type": "markdown",
   "id": "8b599f7a",
   "metadata": {},
   "source": [
    "# The Evolution of Musical Attributes and Their Impact on the Popularity of Songs in the Digital Era\n",
    "\n",
    "### Problem Statement:\n",
    "In the age of digital music, the success of a song is often gauged by its popularity on streaming platforms, which can be influenced by various musical attributes. Understanding how different attributes correlate with popularity can provide insights into listener preferences and inform decisions in the music production and marketing processes.\n",
    "\n",
    "### Objective:\n",
    "\n",
    "To analyze the relationship between various song attributes such as genre, tempo, and explicit content and their popularity scores.\n",
    "To identify trends in the evolution of musical attributes over time and how they relate to shifts in listener engagement and popularity.\n",
    "To determine if there are specific patterns or characteristics that are common among highly popular songs.\n",
    "\n",
    "### Hypotheses:\n",
    "\n",
    "Songs with certain attributes, like a higher tempo or inclusion of explicit content, are more likely to achieve high popularity scores.\n",
    "Changes in listener preferences over time will reflect in the prominence of different musical attributes within the most popular songs.\n",
    "There may be a pattern of convergence or divergence in song attributes within top-charting hits compared to songs with lower popularity scores.\n",
    "\n",
    "### Research Questions:\n",
    "\n",
    "What song attributes most strongly correlate with high popularity scores within the dataset?\n",
    "How have the common attributes of popular songs changed over the past decade?\n",
    "Can we predict the potential popularity of a song based on its attributes without considering its audio features?\n",
    "\n",
    "### Significance:\n",
    "The project's findings can offer valuable insights for artists, producers, and record labels into the types of song attributes that resonate with listeners in the current music landscape. Additionally, these insights could be used to develop more targeted music recommendation systems that align with evolving listener preferences."
   ]
  },
  {
   "cell_type": "markdown",
   "id": "a6f4b628",
   "metadata": {},
   "source": [
    "# 2. Collect Data\n",
    "---"
   ]
  },
  {
   "cell_type": "markdown",
   "id": "9be466d1",
   "metadata": {},
   "source": [
    "dataset is MusicOSet"
   ]
  },
  {
   "cell_type": "code",
   "execution_count": 2,
   "id": "97bef715",
   "metadata": {},
   "outputs": [],
   "source": [
    "# Get the current working directory\n",
    "cwd = os.getcwd()\n",
    "\n",
    "# Construct the path to the \"Data\" folder\n",
    "data_folder = os.path.join(cwd, \"Data\")\n",
    "\n",
    "# Initialize an empty list to store the data frames\n",
    "data_frames = {}\n",
    "\n",
    "# Loop through all files in the \"Data\" folder\n",
    "for file in os.listdir(data_folder):\n",
    "    # Check if the file is a CSV\n",
    "    if file.endswith('.csv'):\n",
    "        # Construct the full file path\n",
    "        file_path = os.path.join(data_folder, file)\n",
    "        \n",
    "        # Read the Excel file into a DataFrame\n",
    "        df = pd.read_csv(file_path, delimiter='\\t')\n",
    "        \n",
    "        # Append the DataFrame to the list\\n\",\n",
    "        data_frames[file] = df\n",
    "\n",
    "# Concatenate all the data frames into a single DataFrame\n",
    "#data = pd.concat(data_frames, ignore_index=True)\n",
    "\n",
    "data_frames['songs.csv'].columns = data_frames['songs.csv'].columns.map(lambda x : 'song_'+x if 'song_' not in x else x)\n",
    "data_frames['albums.csv'].columns = data_frames['albums.csv'].columns.map(lambda x : 'album_'+x if 'album_' not in x else x)\n",
    "data_frames['artists.csv'].columns = data_frames['artists.csv'].columns.map(lambda x : 'artist_'+x if 'artist_' not in x else x)\n",
    "data_frames['acoustic_features.csv'].columns = data_frames['acoustic_features.csv'].columns.map(lambda x : 'song_'+x if 'song_' not in x else x)\n",
    "\n",
    "# data_frames['song_chart.csv'].columns = data_frames['song_chart.csv'].columns.map(lambda x : 'song_'+x if 'song_' not in x else x)\n",
    "# data_frames['song_pop.csv'].columns = data_frames['song_pop.csv'].columns.map(lambda x : 'song_'+x if 'song_' not in x else x)\n",
    "# data_frames['album_chart.csv'].columns = data_frames['album_chart.csv'].columns.map(lambda x : 'album_'+x if 'album_' not in x else x)\n",
    "# data_frames['album_pop.csv'].columns = data_frames['album_pop.csv'].columns.map(lambda x : 'album_'+x if 'album_' not in x else x)\n",
    "# data_frames['artist_chart.csv'].columns = data_frames['artist_chart.csv'].columns.map(lambda x : 'artist_'+x if 'artist_' not in x else x)\n",
    "# data_frames['artist_pop.csv'].columns = data_frames['artist_pop.csv'].columns.map(lambda x : 'artist_'+x if 'artist_' not in x else x)\n",
    "\n",
    "data = pd.merge(data_frames['tracks.csv'], data_frames['songs.csv'], left_on = 'song_id', right_on = 'song_id', how = 'inner', suffixes=['', '_remove'])\n",
    "data = pd.merge(data, data_frames['albums.csv'], left_on = 'album_id', right_on = 'album_id', how = 'inner', suffixes=['', '_remove'])\n",
    "data = pd.merge(data, data_frames['releases.csv'], left_on = 'album_id', right_on = 'album_id', how = 'inner', suffixes=['', '_remove'])\n",
    "data = pd.merge(data, data_frames['artists.csv'], left_on = 'artist_id', right_on = 'artist_id', how = 'inner', suffixes=['', '_remove'])\n",
    "data = pd.merge(data, data_frames['acoustic_features.csv'], left_on = 'song_id', right_on = 'song_id', how = 'inner', suffixes=['', '_remove'])\n",
    "# data = pd.merge(data, data_frames['song_chart.csv'], left_on = 'song_id', right_on = 'song_id', how = 'inner', suffixes=['', '_remove'])\n",
    "# data = pd.merge(data, data_frames['song_pop.csv'], left_on = 'song_id', right_on = 'song_id', how = 'inner', suffixes=['', '_remove'])\n",
    "# data = pd.merge(data, data_frames['album_chart.csv'], left_on = 'album_id', right_on = 'album_id', how = 'inner', suffixes=['', '_remove'])\n",
    "# data = pd.merge(data, data_frames['album_pop.csv'], left_on = 'album_id', right_on = 'album_id', how = 'inner', suffixes=['', '_remove'])\n",
    "# data = pd.merge(data, data_frames['artist_chart.csv'], left_on = 'artist_id', right_on = 'artist_id', how = 'inner', suffixes=['', '_remove'])\n",
    "# data = pd.merge(data, data_frames['artist_pop.csv'], left_on = 'artist_id', right_on = 'artist_id', how = 'inner', suffixes=['', '_remove'])\n",
    "\n",
    "## Commented out merges Duplicate rows, which requries ~64GB of memmory to process, TODO: change duplicate rows to be stored as a dictornary to remove the need to duplicate rows\n",
    "\n",
    "data.drop([i for i in data.columns if 'remove' in i], axis=1, inplace=True)\n",
    "\n",
    "data.to_csv('test.csv')\n"
   ]
  },
  {
   "cell_type": "markdown",
   "id": "9cf76cad",
   "metadata": {},
   "source": [
    "# 3. Exploratory Data Analysis\n",
    "\n",
    "first we start with initial data exploration with use of .head(), .info(), .describe() to gain an understanding of the structure and summary statistics of the dataset"
   ]
  },
  {
   "cell_type": "code",
   "execution_count": 3,
   "id": "fbf5a32c",
   "metadata": {
    "ExecuteTime": {
     "end_time": "2024-01-29T12:14:49.341234Z",
     "start_time": "2024-01-29T12:14:49.333243Z"
    }
   },
   "outputs": [
    {
     "name": "stdout",
     "output_type": "stream",
     "text": [
      "                  song_id  duration_ms  key  mode  time_signature  \\\n",
      "0  3e9HZxeyfWwjeyPAMmWSSQ     207320.0  1.0   1.0             4.0   \n",
      "1  5p7ujcrUXASCNwRaWNHR1C     201661.0  6.0   1.0             4.0   \n",
      "2  2xLMifQCjDGFmkHkpNLD9h     312820.0  8.0   1.0             4.0   \n",
      "3  3KkXRkHbMCARz0aVfEt68P     158040.0  2.0   1.0             4.0   \n",
      "4  1rqqCSm0Qe4I9rUvWncaom     190947.0  5.0   1.0             4.0   \n",
      "\n",
      "   acousticness  danceability  energy  instrumentalness  liveness  ...  \\\n",
      "0       0.22900         0.717   0.653          0.000000    0.1010  ...   \n",
      "1       0.29700         0.752   0.488          0.000009    0.0936  ...   \n",
      "2       0.00513         0.834   0.730          0.000000    0.1240  ...   \n",
      "3       0.55600         0.760   0.479          0.000000    0.0703  ...   \n",
      "4       0.19300         0.579   0.904          0.000000    0.0640  ...   \n",
      "\n",
      "   main_genre  genres  weeks_on_chart  week release_date  \\\n",
      "0         NaN     NaN             NaN   NaN          NaN   \n",
      "1         NaN     NaN             NaN   NaN          NaN   \n",
      "2         NaN     NaN             NaN   NaN          NaN   \n",
      "3         NaN     NaN             NaN   NaN          NaN   \n",
      "4         NaN     NaN             NaN   NaN          NaN   \n",
      "\n",
      "  release_date_precision song_name explicit  song_type  track_number  \n",
      "0                    NaN       NaN      NaN        NaN           NaN  \n",
      "1                    NaN       NaN      NaN        NaN           NaN  \n",
      "2                    NaN       NaN      NaN        NaN           NaN  \n",
      "3                    NaN       NaN      NaN        NaN           NaN  \n",
      "4                    NaN       NaN      NaN        NaN           NaN  \n",
      "\n",
      "[5 rows x 42 columns]\n"
     ]
    }
   ],
   "source": [
    "# Exploration code\n",
    "print(data.head())"
   ]
  },
  {
   "cell_type": "code",
   "execution_count": 4,
   "id": "0acbce9d",
   "metadata": {},
   "outputs": [
    {
     "name": "stdout",
     "output_type": "stream",
     "text": [
      "<class 'pandas.core.frame.DataFrame'>\n",
      "RangeIndex: 1479910 entries, 0 to 1479909\n",
      "Data columns (total 42 columns):\n",
      " #   Column                  Non-Null Count    Dtype  \n",
      "---  ------                  --------------    -----  \n",
      " 0   song_id                 336800 non-null   object \n",
      " 1   duration_ms             20405 non-null    float64\n",
      " 2   key                     20405 non-null    float64\n",
      " 3   mode                    20405 non-null    float64\n",
      " 4   time_signature          20405 non-null    float64\n",
      " 5   acousticness            20405 non-null    float64\n",
      " 6   danceability            20405 non-null    float64\n",
      " 7   energy                  20405 non-null    float64\n",
      " 8   instrumentalness        20405 non-null    float64\n",
      " 9   liveness                20405 non-null    float64\n",
      " 10  loudness                20405 non-null    float64\n",
      " 11  speechiness             20405 non-null    float64\n",
      " 12  valence                 20405 non-null    float64\n",
      " 13  tempo                   20405 non-null    float64\n",
      " 14  album_id                584621 non-null   object \n",
      " 15  name                    38037 non-null    object \n",
      " 16  billboard               46924 non-null    object \n",
      " 17  artists                 46924 non-null    object \n",
      " 18  popularity              58442 non-null    float64\n",
      " 19  total_tracks            26519 non-null    float64\n",
      " 20  album_type              26519 non-null    object \n",
      " 21  image_url               38037 non-null    object \n",
      " 22  rank_score              1252477 non-null  float64\n",
      " 23  peak_position           1252477 non-null  float64\n",
      " 24  week_count              471706 non-null   float64\n",
      " 25  date                    471706 non-null   object \n",
      " 26  year_end_score          101659 non-null   float64\n",
      " 27  is_pop                  101659 non-null   object \n",
      " 28  year                    101659 non-null   float64\n",
      " 29  artist_id               605416 non-null   object \n",
      " 30  followers               11518 non-null    object \n",
      " 31  artist_type             11518 non-null    object \n",
      " 32  main_genre              11518 non-null    object \n",
      " 33  genres                  11518 non-null    object \n",
      " 34  weeks_on_chart          780771 non-null   float64\n",
      " 35  week                    780771 non-null   object \n",
      " 36  release_date            46927 non-null    object \n",
      " 37  release_date_precision  46927 non-null    object \n",
      " 38  song_name               20405 non-null    object \n",
      " 39  explicit                20405 non-null    object \n",
      " 40  song_type               20405 non-null    object \n",
      " 41  track_number            20405 non-null    float64\n",
      "dtypes: float64(22), object(20)\n",
      "memory usage: 474.2+ MB\n",
      "None\n"
     ]
    }
   ],
   "source": [
    "print(data.info())"
   ]
  },
  {
   "cell_type": "code",
   "execution_count": 5,
   "id": "7cbe51a6",
   "metadata": {},
   "outputs": [
    {
     "name": "stdout",
     "output_type": "stream",
     "text": [
      "        duration_ms           key          mode  time_signature  acousticness  \\\n",
      "count  2.040500e+04  20405.000000  20405.000000    20405.000000  20405.000000   \n",
      "mean   2.295437e+05      5.224651      0.727028        3.943592      0.265201   \n",
      "std    6.705696e+04      3.567111      0.445498        0.289162      0.264370   \n",
      "min    2.460400e+04      0.000000      0.000000        0.000000      0.000001   \n",
      "25%    1.864930e+05      2.000000      0.000000        4.000000      0.039200   \n",
      "50%    2.230260e+05      5.000000      1.000000        4.000000      0.169000   \n",
      "75%    2.596930e+05      8.000000      1.000000        4.000000      0.440000   \n",
      "max    1.561133e+06     11.000000      1.000000        5.000000      0.995000   \n",
      "\n",
      "       danceability        energy  instrumentalness      liveness  \\\n",
      "count  20405.000000  20405.000000      20405.000000  20405.000000   \n",
      "mean       0.600342      0.625056          0.047546      0.192335   \n",
      "std        0.150627      0.197120          0.168418      0.164047   \n",
      "min        0.000000      0.006640          0.000000      0.013000   \n",
      "25%        0.502000      0.481000          0.000000      0.088300   \n",
      "50%        0.608000      0.640000          0.000010      0.129000   \n",
      "75%        0.706000      0.783000          0.001110      0.249000   \n",
      "max        0.988000      0.998000          0.985000      0.997000   \n",
      "\n",
      "           loudness  ...         tempo    popularity  total_tracks  \\\n",
      "count  20405.000000  ...  20405.000000  58442.000000  26519.000000   \n",
      "mean      -8.845186  ...    120.313409     38.046354     13.386063   \n",
      "std        3.593048  ...     27.683465     20.618468      8.185826   \n",
      "min      -30.896000  ...      0.000000      0.000000      1.000000   \n",
      "25%      -11.217000  ...     99.735000     23.000000     10.000000   \n",
      "50%       -8.471000  ...    118.952000     39.000000     12.000000   \n",
      "75%       -6.051000  ...    135.903000     54.000000     15.000000   \n",
      "max        3.440000  ...    231.028000    100.000000    388.000000   \n",
      "\n",
      "         rank_score  peak_position     week_count  year_end_score  \\\n",
      "count  1.252477e+06   1.252477e+06  471706.000000   101659.000000   \n",
      "mean   1.000368e+02   1.470865e+02      30.058609     2139.367100   \n",
      "std    8.020330e+01   1.013213e+02      47.384452     4002.990397   \n",
      "min    1.000000e+00   1.000000e+00       0.000000        1.000000   \n",
      "25%    4.300000e+01   7.600000e+01       6.000000      189.000000   \n",
      "50%    8.400000e+01   1.550000e+02      16.000000      757.000000   \n",
      "75%    1.440000e+02   1.960000e+02      36.000000     2189.000000   \n",
      "max    3.225000e+03   3.957000e+03     940.000000   115282.000000   \n",
      "\n",
      "                year  weeks_on_chart  track_number  \n",
      "count  101659.000000   780771.000000  20405.000000  \n",
      "mean     1993.698994       24.443307      6.335457  \n",
      "std        16.433043       48.268801      6.432558  \n",
      "min      1964.000000        0.000000      1.000000  \n",
      "25%      1979.000000        5.000000      2.000000  \n",
      "50%      1996.000000       11.000000      5.000000  \n",
      "75%      2009.000000       24.000000      9.000000  \n",
      "max      2018.000000     1355.000000    125.000000  \n",
      "\n",
      "[8 rows x 22 columns]\n"
     ]
    }
   ],
   "source": [
    "print(data.describe())"
   ]
  },
  {
   "cell_type": "code",
   "execution_count": 6,
   "id": "6d649208",
   "metadata": {
    "ExecuteTime": {
     "end_time": "2024-01-29T12:14:49.356235Z",
     "start_time": "2024-01-29T12:14:49.344237Z"
    }
   },
   "outputs": [],
   "source": [
    "# Figures"
   ]
  },
  {
   "cell_type": "markdown",
   "id": "6e779925",
   "metadata": {},
   "source": [
    "Descriptions and discoveries..."
   ]
  },
  {
   "cell_type": "code",
   "execution_count": 7,
   "id": "61a00c75",
   "metadata": {
    "ExecuteTime": {
     "end_time": "2024-01-29T12:14:49.371231Z",
     "start_time": "2024-01-29T12:14:49.358237Z"
    }
   },
   "outputs": [],
   "source": [
    "# Exploration code"
   ]
  },
  {
   "cell_type": "code",
   "execution_count": 8,
   "id": "a5829a82",
   "metadata": {
    "ExecuteTime": {
     "end_time": "2024-01-29T12:14:49.386233Z",
     "start_time": "2024-01-29T12:14:49.373235Z"
    }
   },
   "outputs": [],
   "source": [
    "# Figures\n",
    "    \n"
   ]
  },
  {
   "cell_type": "markdown",
   "id": "605de327",
   "metadata": {},
   "source": [
    "Descriptions and discoveries..."
   ]
  },
  {
   "cell_type": "code",
   "execution_count": null,
   "id": "3e1ab033",
   "metadata": {
    "ExecuteTime": {
     "end_time": "2024-01-29T12:14:49.401231Z",
     "start_time": "2024-01-29T12:14:49.389233Z"
    }
   },
   "outputs": [],
   "source": [
    "# Exploration code (potential integration of module code)"
   ]
  },
  {
   "cell_type": "code",
   "execution_count": null,
   "id": "a4990498",
   "metadata": {
    "ExecuteTime": {
     "end_time": "2024-01-29T12:14:49.416231Z",
     "start_time": "2024-01-29T12:14:49.404234Z"
    }
   },
   "outputs": [],
   "source": [
    "# Figures (potential integration of module code)"
   ]
  },
  {
   "cell_type": "markdown",
   "id": "f11bfc96",
   "metadata": {},
   "source": [
    "Descriptions and discoveries..."
   ]
  },
  {
   "cell_type": "markdown",
   "id": "dc9f6c9d",
   "metadata": {},
   "source": [
    "# 4. Data Pre-Processing\n",
    "---\n",
    "Explanations..."
   ]
  },
  {
   "cell_type": "code",
   "execution_count": null,
   "id": "c09b5ecb",
   "metadata": {
    "ExecuteTime": {
     "end_time": "2024-01-29T12:14:49.431231Z",
     "start_time": "2024-01-29T12:14:49.419239Z"
    }
   },
   "outputs": [],
   "source": [
    "# Data manipulation 1 (potential integration of module code)"
   ]
  },
  {
   "cell_type": "code",
   "execution_count": null,
   "id": "289a9a3f",
   "metadata": {
    "ExecuteTime": {
     "end_time": "2024-01-29T12:14:49.446228Z",
     "start_time": "2024-01-29T12:14:49.435232Z"
    }
   },
   "outputs": [],
   "source": [
    "# Data manipulation 2 (potential integration of module code)"
   ]
  },
  {
   "cell_type": "markdown",
   "id": "013259a6",
   "metadata": {},
   "source": [
    "Related discussion..."
   ]
  },
  {
   "cell_type": "markdown",
   "id": "3ad5e17e",
   "metadata": {},
   "source": [
    "# 5. In-Depth Analysis\n",
    "---\n",
    "Explanations..."
   ]
  },
  {
   "cell_type": "code",
   "execution_count": null,
   "id": "57b3854e",
   "metadata": {
    "ExecuteTime": {
     "end_time": "2024-01-29T12:14:49.462235Z",
     "start_time": "2024-01-29T12:14:49.448230Z"
    }
   },
   "outputs": [],
   "source": [
    "# Implementations (potential integration of module code)"
   ]
  },
  {
   "cell_type": "markdown",
   "id": "d2ba4eb8",
   "metadata": {},
   "source": [
    "Descriptions and discoveries..."
   ]
  },
  {
   "cell_type": "code",
   "execution_count": null,
   "id": "5521bbe7",
   "metadata": {
    "ExecuteTime": {
     "end_time": "2024-01-29T12:14:49.493232Z",
     "start_time": "2024-01-29T12:14:49.475238Z"
    }
   },
   "outputs": [],
   "source": [
    "# Visualisations (potential integration of module code)"
   ]
  },
  {
   "cell_type": "markdown",
   "id": "90bb3f07",
   "metadata": {},
   "source": [
    "Descriptions and discoveries..."
   ]
  },
  {
   "cell_type": "code",
   "execution_count": null,
   "id": "955b784f",
   "metadata": {
    "ExecuteTime": {
     "end_time": "2024-01-29T12:14:49.506230Z",
     "start_time": "2024-01-29T12:14:49.496233Z"
    }
   },
   "outputs": [],
   "source": [
    "# Evaluations (potential integration of module code)"
   ]
  },
  {
   "cell_type": "markdown",
   "id": "facfdfa8",
   "metadata": {},
   "source": [
    "Descriptions and discoveries..."
   ]
  },
  {
   "cell_type": "code",
   "execution_count": null,
   "id": "cf5db850",
   "metadata": {
    "ExecuteTime": {
     "end_time": "2024-01-29T12:14:49.536230Z",
     "start_time": "2024-01-29T12:14:49.518230Z"
    }
   },
   "outputs": [],
   "source": [
    "# Visualisations (potential integration of module code)"
   ]
  },
  {
   "cell_type": "markdown",
   "id": "03f6b317",
   "metadata": {},
   "source": [
    "Descriptions and discoveries..."
   ]
  },
  {
   "cell_type": "markdown",
   "id": "cb514821",
   "metadata": {},
   "source": [
    "# 6. Communicate Results\n",
    "---\n",
    "Overall conclusions..."
   ]
  },
  {
   "cell_type": "markdown",
   "id": "964c7939",
   "metadata": {},
   "source": [
    "# References\n",
    "---\n",
    "DataBase Link: https://marianaossilva.github.io/DSW2019/"
   ]
  },
  {
   "cell_type": "markdown",
   "id": "dffb2f08",
   "metadata": {},
   "source": [
    "# Group Reflection\n",
    "\n",
    "---\n",
    "\n",
    "Comments...\n",
    "\n",
    "---\n",
    "*Optional Unequal Contribution Table*\n",
    "Member | Contribution [% effort]\n",
    "-|-\n",
    "Jamie Soan | 100%\n",
    "Angus Day | 100%\n",
    "William Heap | 100%\n",
    "kj | 100%"
   ]
  },
  {
   "cell_type": "markdown",
   "id": "b74d88fb",
   "metadata": {},
   "source": [
    "# Jamie Reflection\n",
    "---\n",
    "Comments... smells"
   ]
  },
  {
   "cell_type": "markdown",
   "id": "5b36e1fe",
   "metadata": {},
   "source": [
    "# Angus Reflection\n",
    "---\n",
    "Comments..."
   ]
  },
  {
   "cell_type": "markdown",
   "id": "dcb05dda",
   "metadata": {},
   "source": [
    "# William Reflection\n",
    "---\n",
    "Comments..."
   ]
  },
  {
   "cell_type": "markdown",
   "id": "cece0720",
   "metadata": {},
   "source": [
    "# KJ Reflection\n",
    "---\n",
    "Comments..."
   ]
  },
  {
   "cell_type": "markdown",
   "id": "b2791667",
   "metadata": {},
   "source": [
    "# JKL Reflection\n",
    "---\n",
    "Comments..."
   ]
  }
 ],
 "metadata": {
  "kernelspec": {
   "display_name": "Python 3 (ipykernel)",
   "language": "python",
   "name": "python3"
  },
  "language_info": {
   "codemirror_mode": {
    "name": "ipython",
    "version": 3
   },
   "file_extension": ".py",
   "mimetype": "text/x-python",
   "name": "python",
   "nbconvert_exporter": "python",
   "pygments_lexer": "ipython3",
   "version": "3.10.9"
  },
  "toc": {
   "base_numbering": 1,
   "nav_menu": {},
   "number_sections": false,
   "sideBar": true,
   "skip_h1_title": false,
   "title_cell": "Table of Contents",
   "title_sidebar": "Contents",
   "toc_cell": true,
   "toc_position": {},
   "toc_section_display": true,
   "toc_window_display": false
  },
  "varInspector": {
   "cols": {
    "lenName": 16,
    "lenType": 16,
    "lenVar": 40
   },
   "kernels_config": {
    "python": {
     "delete_cmd_postfix": "",
     "delete_cmd_prefix": "del ",
     "library": "var_list.py",
     "varRefreshCmd": "print(var_dic_list())"
    },
    "r": {
     "delete_cmd_postfix": ") ",
     "delete_cmd_prefix": "rm(",
     "library": "var_list.r",
     "varRefreshCmd": "cat(var_dic_list()) "
    }
   },
   "types_to_exclude": [
    "module",
    "function",
    "builtin_function_or_method",
    "instance",
    "_Feature"
   ],
   "window_display": false
  }
 },
 "nbformat": 4,
 "nbformat_minor": 5
}
